{
 "cells": [
  {
   "cell_type": "code",
   "execution_count": 2,
   "metadata": {},
   "outputs": [],
   "source": [
    "import numpy as np\n",
    "import pandas as pd\n",
    "from sklearn.model_selection import train_test_split\n",
    "from sklearn.linear_model import LinearRegression\n",
    "from sklearn.metrics import r2_score"
   ]
  },
  {
   "cell_type": "code",
   "execution_count": 33,
   "metadata": {},
   "outputs": [
    {
     "name": "stderr",
     "output_type": "stream",
     "text": [
      "c:\\users\\bbcc\\appdata\\local\\programs\\python\\python37\\lib\\site-packages\\pandas\\core\\frame.py:3997: SettingWithCopyWarning: \n",
      "A value is trying to be set on a copy of a slice from a DataFrame\n",
      "\n",
      "See the caveats in the documentation: https://pandas.pydata.org/pandas-docs/stable/user_guide/indexing.html#returning-a-view-versus-a-copy\n",
      "  errors=errors,\n"
     ]
    },
    {
     "name": "stdout",
     "output_type": "stream",
     "text": [
      "           Area                    Item  Year     Value\n",
      "54  Afghanistan  Meat indigenous, total  1961  336086.0\n",
      "55  Afghanistan  Meat indigenous, total  1962  342715.0\n",
      "56  Afghanistan  Meat indigenous, total  1963  359908.0\n",
      "57  Afghanistan  Meat indigenous, total  1964  373805.0\n",
      "58  Afghanistan  Meat indigenous, total  1965  389478.0\n",
      "          Area                    Item  Year     Value\n",
      "0  Afghanistan  Meat indigenous, total  1961  336086.0\n",
      "1  Afghanistan  Meat indigenous, total  1962  342715.0\n",
      "2  Afghanistan  Meat indigenous, total  1963  359908.0\n",
      "3  Afghanistan  Meat indigenous, total  1964  373805.0\n",
      "4  Afghanistan  Meat indigenous, total  1965  389478.0\n"
     ]
    }
   ],
   "source": [
    "df = pd.read_csv('current_FAO/raw_files/Value_of_Production_E_All_Data_(Normalized).csv', encoding = 'ISO-8859-1')\n",
    "\n",
    "#print(df.head())\n",
    "df_net = df.loc[df['Element'] == 'Net Production Value (constant 2004-2006 1000 I$)']\n",
    "df_gross = df.loc[(df['Element'] != 'Net Production Value (constant 2004-2006 1000 I$)') & (df['Element'] == 'Gross Production Value (constant 2004-2006 1000 I$)')]\n",
    "\n",
    "df_net.drop(['Area Code', 'Item Code', 'Element', 'Element Code', 'Flag', 'Unit', 'Year Code'], 1, inplace = True)\n",
    "df_gross.drop(['Area Code', 'Item Code', 'Element', 'Element Code', 'Flag', 'Unit', 'Year Code'], 1, inplace = True)\n",
    "print(df_net.head())\n",
    "print(df_gross.head())\n",
    "\n",
    "df_net.to_csv('Proc_Data/Net_Production.csv', header = ['Region', 'Item', 'Year', 'Value(in $)'], index = False)\n",
    "df_gross.to_csv('Proc_Data/Gross_Production.csv', header = ['Region', 'Item', 'Year', 'Value(in $)'], index = False)"
   ]
  },
  {
   "cell_type": "code",
   "execution_count": 34,
   "metadata": {},
   "outputs": [
    {
     "name": "stdout",
     "output_type": "stream",
     "text": [
      "Afghanistan\n",
      "0.7030331013585218\n",
      "Afghanistan\n",
      "0.5786732606498777\n",
      "Afghanistan\n",
      "-0.0830293197103189\n",
      "Afghanistan\n",
      "0.18589324670161766\n",
      "Afghanistan\n",
      "-0.04058396897113581\n",
      "Afghanistan\n",
      "0.19925787003099538\n",
      "Afghanistan\n",
      "0.40120254192941485\n",
      "Afghanistan\n",
      "0.6914303468413481\n",
      "Afghanistan\n",
      "0.3406302549778426\n",
      "Afghanistan\n",
      "0.04526971515319078\n",
      "Afghanistan\n",
      "-0.0015497800945161178\n",
      "Afghanistan\n",
      "-0.6645485622042515\n",
      "Afghanistan\n",
      "0.17241956305984463\n",
      "Afghanistan\n",
      "0.3224838580831437\n",
      "Afghanistan\n",
      "0.45711365647282554\n",
      "Afghanistan\n",
      "-0.1533834457388179\n",
      "Afghanistan\n",
      "0.12186027370708818\n",
      "Afghanistan\n",
      "-0.8764498615452008\n",
      "Afghanistan\n",
      "-0.13725223799315756\n",
      "Afghanistan\n",
      "-0.4925074372190079\n",
      "Afghanistan\n",
      "-0.09424612047108338\n",
      "Afghanistan\n",
      "0.668769898398494\n",
      "Afghanistan\n",
      "0.6724705478918108\n",
      "Afghanistan\n",
      "-0.5311494620411452\n",
      "Afghanistan\n",
      "0.7093261705665239\n",
      "Afghanistan\n",
      "0.5727931864555262\n",
      "Afghanistan\n",
      "0.7258774402104009\n",
      "Afghanistan\n",
      "-0.37437559921217023\n",
      "Afghanistan\n",
      "-0.7874705616665993\n",
      "Afghanistan\n",
      "0.5015583588797274\n",
      "Afghanistan\n",
      "0.2512754890447113\n",
      "Afghanistan\n",
      "0.4756696110378542\n",
      "Afghanistan\n",
      "0.8368737582239638\n",
      "Afghanistan\n",
      "-0.020391474636574758\n",
      "Afghanistan\n",
      "0.5708763143089761\n",
      "Afghanistan\n",
      "0.519076221452851\n",
      "Afghanistan\n",
      "0.4192407537090269\n",
      "Afghanistan\n",
      "0.6785080832624869\n",
      "Afghanistan\n",
      "-0.07401953168292885\n",
      "Afghanistan\n",
      "0.005933283933906797\n",
      "Afghanistan\n",
      "-0.527321701988039\n",
      "Afghanistan\n",
      "-0.31844870241755974\n",
      "Afghanistan\n",
      "0.3473887462399735\n",
      "Afghanistan\n",
      "0.8105118683998748\n",
      "Afghanistan\n",
      "0.4447389334394142\n",
      "Afghanistan\n",
      "0.7340953805309277\n",
      "Afghanistan\n",
      "0.2727931062296428\n",
      "Afghanistan\n",
      "0.5229505203878846\n",
      "Afghanistan\n",
      "0.10171143637532942\n",
      "Afghanistan\n",
      "-0.12671320223244442\n",
      "Afghanistan\n",
      "0.4246786824694029\n",
      "Afghanistan\n",
      "0.28086603946307054\n",
      "Afghanistan\n",
      "0.7336319365657613\n",
      "Afghanistan\n",
      "-4.111348845415024\n",
      "Afghanistan\n",
      "0.24011944833040488\n",
      "Afghanistan\n",
      "0.8317601231505392\n",
      "Afghanistan\n",
      "-0.052788059521180486\n",
      "Afghanistan\n",
      "-0.13520146232220287\n",
      "Afghanistan\n",
      "0.5781711049851957\n",
      "Afghanistan\n",
      "0.6781025795916631\n",
      "Afghanistan\n",
      "0.45168872237454305\n"
     ]
    },
    {
     "ename": "ValueError",
     "evalue": "With n_samples=0, test_size=0.2 and train_size=None, the resulting train set will be empty. Adjust any of the aforementioned parameters.",
     "output_type": "error",
     "traceback": [
      "\u001b[1;31m---------------------------------------------------------------------------\u001b[0m",
      "\u001b[1;31mValueError\u001b[0m                                Traceback (most recent call last)",
      "\u001b[1;32m<ipython-input-34-87c825babd5a>\u001b[0m in \u001b[0;36m<module>\u001b[1;34m\u001b[0m\n\u001b[0;32m      7\u001b[0m         \u001b[1;31m#x=x.values.reshape()\u001b[0m\u001b[1;33m\u001b[0m\u001b[1;33m\u001b[0m\u001b[1;33m\u001b[0m\u001b[0m\n\u001b[0;32m      8\u001b[0m         \u001b[0my\u001b[0m \u001b[1;33m=\u001b[0m \u001b[0mdf_region\u001b[0m\u001b[1;33m.\u001b[0m\u001b[0miloc\u001b[0m\u001b[1;33m[\u001b[0m\u001b[1;33m:\u001b[0m\u001b[1;33m,\u001b[0m \u001b[1;33m[\u001b[0m\u001b[1;36m3\u001b[0m\u001b[1;33m]\u001b[0m\u001b[1;33m]\u001b[0m\u001b[1;33m\u001b[0m\u001b[1;33m\u001b[0m\u001b[0m\n\u001b[1;32m----> 9\u001b[1;33m         \u001b[0mx_train\u001b[0m\u001b[1;33m,\u001b[0m \u001b[0mx_test\u001b[0m\u001b[1;33m,\u001b[0m \u001b[0my_train\u001b[0m\u001b[1;33m,\u001b[0m \u001b[0my_test\u001b[0m \u001b[1;33m=\u001b[0m \u001b[0mtrain_test_split\u001b[0m\u001b[1;33m(\u001b[0m\u001b[0mx\u001b[0m\u001b[1;33m,\u001b[0m \u001b[0my\u001b[0m\u001b[1;33m,\u001b[0m \u001b[0mtest_size\u001b[0m \u001b[1;33m=\u001b[0m \u001b[1;36m0.2\u001b[0m\u001b[1;33m)\u001b[0m\u001b[1;33m\u001b[0m\u001b[1;33m\u001b[0m\u001b[0m\n\u001b[0m\u001b[0;32m     10\u001b[0m         \u001b[0mlinear_reg\u001b[0m \u001b[1;33m=\u001b[0m \u001b[0mLinearRegression\u001b[0m\u001b[1;33m(\u001b[0m\u001b[1;33m)\u001b[0m\u001b[1;33m\u001b[0m\u001b[1;33m\u001b[0m\u001b[0m\n\u001b[0;32m     11\u001b[0m         \u001b[0mlinear_reg\u001b[0m\u001b[1;33m.\u001b[0m\u001b[0mfit\u001b[0m\u001b[1;33m(\u001b[0m\u001b[0mx_train\u001b[0m\u001b[1;33m,\u001b[0m \u001b[0my_train\u001b[0m\u001b[1;33m)\u001b[0m\u001b[1;33m\u001b[0m\u001b[1;33m\u001b[0m\u001b[0m\n",
      "\u001b[1;32mc:\\users\\bbcc\\appdata\\local\\programs\\python\\python37\\lib\\site-packages\\sklearn\\model_selection\\_split.py\u001b[0m in \u001b[0;36mtrain_test_split\u001b[1;34m(*arrays, **options)\u001b[0m\n\u001b[0;32m   2120\u001b[0m     \u001b[0mn_samples\u001b[0m \u001b[1;33m=\u001b[0m \u001b[0m_num_samples\u001b[0m\u001b[1;33m(\u001b[0m\u001b[0marrays\u001b[0m\u001b[1;33m[\u001b[0m\u001b[1;36m0\u001b[0m\u001b[1;33m]\u001b[0m\u001b[1;33m)\u001b[0m\u001b[1;33m\u001b[0m\u001b[1;33m\u001b[0m\u001b[0m\n\u001b[0;32m   2121\u001b[0m     n_train, n_test = _validate_shuffle_split(n_samples, test_size, train_size,\n\u001b[1;32m-> 2122\u001b[1;33m                                               default_test_size=0.25)\n\u001b[0m\u001b[0;32m   2123\u001b[0m \u001b[1;33m\u001b[0m\u001b[0m\n\u001b[0;32m   2124\u001b[0m     \u001b[1;32mif\u001b[0m \u001b[0mshuffle\u001b[0m \u001b[1;32mis\u001b[0m \u001b[1;32mFalse\u001b[0m\u001b[1;33m:\u001b[0m\u001b[1;33m\u001b[0m\u001b[1;33m\u001b[0m\u001b[0m\n",
      "\u001b[1;32mc:\\users\\bbcc\\appdata\\local\\programs\\python\\python37\\lib\\site-packages\\sklearn\\model_selection\\_split.py\u001b[0m in \u001b[0;36m_validate_shuffle_split\u001b[1;34m(n_samples, test_size, train_size, default_test_size)\u001b[0m\n\u001b[0;32m   1803\u001b[0m             \u001b[1;34m'resulting train set will be empty. Adjust any of the '\u001b[0m\u001b[1;33m\u001b[0m\u001b[1;33m\u001b[0m\u001b[0m\n\u001b[0;32m   1804\u001b[0m             'aforementioned parameters.'.format(n_samples, test_size,\n\u001b[1;32m-> 1805\u001b[1;33m                                                 train_size)\n\u001b[0m\u001b[0;32m   1806\u001b[0m         )\n\u001b[0;32m   1807\u001b[0m \u001b[1;33m\u001b[0m\u001b[0m\n",
      "\u001b[1;31mValueError\u001b[0m: With n_samples=0, test_size=0.2 and train_size=None, the resulting train set will be empty. Adjust any of the aforementioned parameters."
     ]
    }
   ],
   "source": [
    "df = pd.read_csv('Proc_Data/Gross_Production.csv', encoding = 'ISO-8859-1')\n",
    "\n",
    "for country in df['Region'].unique():\n",
    "    for item in df['Item'].unique():\n",
    "        df_region = df.loc[(df['Region'] == country) & (df['Item'] == item)]\n",
    "        x = df_region.iloc[:, [2]]\n",
    "        #x=x.values.reshape()\n",
    "        y = df_region.iloc[:, [3]]\n",
    "        x_train, x_test, y_train, y_test = train_test_split(x, y, test_size = 0.2)\n",
    "        linear_reg = LinearRegression()\n",
    "        linear_reg.fit(x_train, y_train)\n",
    "        y_pred = linear_reg.predict(x_test)\n",
    "        print(country)\n",
    "        print(r2_score(y_test, y_pred))\n"
   ]
  },
  {
   "cell_type": "code",
   "execution_count": 35,
   "metadata": {},
   "outputs": [],
   "source": [
    "df = pd.read_csv('current_FAO/raw_files/Environment_Temperature_change_E_All_Data_(Normalized).csv', encoding = 'ISO-8859-1')\n",
    "df_tc = df.loc[df['Element'] == 'Temperature change']\n",
    "df_tc.to_csv('Proc_Data/Temperature_change.csv', header = ['Area code','Area','Months Code','Months', 'Element Code', 'Element', 'Year Code','Year','Unit','Value','Flag'], index = False)"
   ]
  },
  {
   "cell_type": "code",
   "execution_count": 36,
   "metadata": {
    "scrolled": true
   },
   "outputs": [],
   "source": [
    "df = pd.read_csv('Proc_Data/Temperature_change.csv')\n",
    "df.drop(df[df['Months'] == 'Meteorological year'].index, inplace = True) \n",
    "df.drop(df[df['Months'] == 'Dec-Jan-Feb'].index, inplace = True) \n",
    "df.drop(df[df['Months'] == 'Mar-Apr-May'].index, inplace = True) \n",
    "df.drop(df[df['Months'] == 'Jun-Jul-Aug'].index, inplace = True) \n",
    "df.drop(df[df['Months'] == 'Sep-Oct-Nov'].index, inplace = True)\n",
    "df.to_csv('Proc_Data/Temperature_change.csv', header = ['Area code','Area','Months Code','Months', 'Element Code','Element', 'Year Code','Year','Unit','Value','Flag'], index = False)\n"
   ]
  },
  {
   "cell_type": "code",
   "execution_count": 37,
   "metadata": {},
   "outputs": [
    {
     "name": "stdout",
     "output_type": "stream",
     "text": [
      "           Country  Year  Temp difference\n",
      "0      Afghanistan  1961         0.005687\n",
      "1      Afghanistan  1962        -0.270062\n",
      "2      Afghanistan  1963         0.821187\n",
      "3      Afghanistan  1964        -0.871563\n",
      "4      Afghanistan  1965         0.177500\n",
      "...            ...   ...              ...\n",
      "15227         OECD  2012         1.233063\n",
      "15228         OECD  2013         0.858000\n",
      "15229         OECD  2014         0.958437\n",
      "15230         OECD  2015         1.297500\n",
      "15231         OECD  2016         1.691250\n",
      "\n",
      "[15232 rows x 3 columns]\n"
     ]
    }
   ],
   "source": [
    "country1=[]\n",
    "year1=[]\n",
    "mean=[]\n",
    "\n",
    "df = pd.read_csv('Proc_Data/Temperature_change.csv')\n",
    "for country in df['Area'].unique():\n",
    "    for year in df['Year'].unique():\n",
    "        rslt_df = df[(df['Area'] == country) & (df['Year'] == year)]\n",
    "        country1.append(country)\n",
    "        year1.append(year)\n",
    "        mean.append(rslt_df['Value'].mean())\n",
    "        #print(rslt_df['Value'].mean())\n",
    "list_of_tuples = list(zip(country1, year1, mean))       \n",
    "df1 = pd.DataFrame(list_of_tuples, columns = ['Country', 'Year','Temp difference']) \n",
    "print(df1)\n",
    "df1.to_csv('Proc_Data/Temperature_change_by_country.csv', index = False)"
   ]
  },
  {
   "cell_type": "code",
   "execution_count": 38,
   "metadata": {},
   "outputs": [
    {
     "name": "stdout",
     "output_type": "stream",
     "text": [
      "                                         Region                    Item  Year  \\\n",
      "0                                   Afghanistan  Meat indigenous, total  1961   \n",
      "1                                   Afghanistan              Milk,Total  1961   \n",
      "2                                   Afghanistan        Oilcrops Primary  1961   \n",
      "3                                   Afghanistan  Roots and Tubers,Total  1961   \n",
      "4                                   Afghanistan              Sugar, raw  1961   \n",
      "...                                         ...                     ...   ...   \n",
      "880085  Net Food Importing Developing Countries           Cereals,Total  2014   \n",
      "880086  Net Food Importing Developing Countries             Crops (PIN)  2014   \n",
      "880087  Net Food Importing Developing Countries              Food (PIN)  2014   \n",
      "880088  Net Food Importing Developing Countries         Livestock (PIN)  2014   \n",
      "880089  Net Food Importing Developing Countries          Non Food (PIN)  2014   \n",
      "\n",
      "         Value(in $)  Temp difference  \n",
      "0       3.360860e+05         0.005687  \n",
      "1       1.945530e+05         0.005687  \n",
      "2       1.066000e+04         0.005687  \n",
      "3       2.194200e+04         0.005687  \n",
      "4       3.301000e+03         0.005687  \n",
      "...              ...              ...  \n",
      "880085  6.469038e+07         0.898062  \n",
      "880086  1.948023e+08         0.898062  \n",
      "880087  2.676774e+08         0.898062  \n",
      "880088  8.548534e+07         0.898062  \n",
      "880089  1.267061e+07         0.898062  \n",
      "\n",
      "[880090 rows x 5 columns]\n"
     ]
    }
   ],
   "source": [
    "df1 = pd.read_csv('Proc_Data/Gross_Production.csv')\n",
    "df2 = pd.read_csv('Proc_Data/Temperature_change_by_country.csv')\n",
    "df2.rename(columns = {'Country':'Region'}, inplace = True) \n",
    "result = pd.merge(df1, df2, on=['Region', 'Year'])\n",
    "result.to_csv('Proc_Data/Gross_and_temp.csv', index = False)\n",
    "print(result)"
   ]
  },
  {
   "cell_type": "code",
   "execution_count": 39,
   "metadata": {},
   "outputs": [
    {
     "data": {
      "text/plain": [
       "array(['Gross Fixed Capital Formation (Agriculture, Forestry and Fishing)',\n",
       "       'Consumption of Fixed Capital (Agriculture, Forestry and Fishing)',\n",
       "       'Net Capital Stocks (Agriculture, Forestry and Fishing)',\n",
       "       'Gross Capital Stocks (Agriculture, Forestry and Fishing)'],\n",
       "      dtype=object)"
      ]
     },
     "execution_count": 39,
     "metadata": {},
     "output_type": "execute_result"
    }
   ],
   "source": [
    "df = pd.read_csv('current_FAO/raw_files/Investment_CapitalStock_E_All_Data_(Normalized).csv', encoding = 'ISO-8859-1')\n",
    "df.Item.unique()"
   ]
  },
  {
   "cell_type": "code",
   "execution_count": 40,
   "metadata": {},
   "outputs": [],
   "source": [
    "df = pd.read_csv('current_FAO/raw_files/Investment_CapitalStock_E_All_Data_(Normalized).csv', encoding = 'ISO-8859-1')\n",
    "\n",
    "df_gfc = df.loc[(df['Item'] == 'Gross Fixed Capital Formation (Agriculture, Forestry and Fishing)') & (df['Element']=='Value US$')]\n",
    "\n",
    "df_cfc = df.loc[(df['Item'] == 'Consumption of Fixed Capital (Agriculture, Forestry and Fishing)') & (df['Element']=='Value US$')]\n",
    "\n",
    "df_ncs = df.loc[(df['Item'] == 'Net Capital Stocks (Agriculture, Forestry and Fishing)') & (df['Element']=='Value US$')]\n",
    "\n",
    "df_gcs = df.loc[(df['Item'] == 'Gross Capital Stocks (Agriculture, Forestry and Fishing)') & (df['Element']=='Value US$')]\n",
    "\n",
    "df_gfc.to_csv('Proc_Data/Gross_fixed_capital_formation.csv', index = False)\n",
    "df_cfc.to_csv('Proc_Data/Consumption_fixed_capital.csv', index = False)\n",
    "df_ncs.to_csv('Proc_Data/Net_capital_stocks.csv', index = False)\n",
    "df_gcs.to_csv('Proc_Data/Gross_capital_stocks.csv', index = False)"
   ]
  },
  {
   "cell_type": "code",
   "execution_count": 41,
   "metadata": {},
   "outputs": [],
   "source": [
    "#Gross capital stocks has less data\n",
    "#all value usd and in millions\n",
    "\n",
    "df1 = pd.read_csv('Proc_Data/Gross_fixed_capital_formation.csv')\n",
    "df2 = pd.read_csv('Proc_Data/Consumption_fixed_capital.csv')\n",
    "df3 = pd.read_csv('Proc_Data/Net_capital_stocks.csv')\n",
    "df1.drop(['Item', 'Element','Unit','Flag'], axis = 1, inplace = True) \n",
    "df2.drop(['Item', 'Element','Unit','Flag'], axis = 1, inplace = True)\n",
    "df3.drop(['Item', 'Element','Unit','Flag'], axis = 1, inplace = True)\n",
    "df1.rename(columns = {'Value':'Gross Fixed Capital Fomation'}, inplace = True)\n",
    "df2.rename(columns = {'Value':'Consumption of fixed  capital'}, inplace = True) \n",
    "df3.rename(columns = {'Value':'Net capital stocks'}, inplace = True) \n",
    "result = pd.merge(df1, df2, on=['Area', 'Year'])\n",
    "result.to_csv('Proc_Data/investment_merge.csv', index = False)\n",
    "df4 = pd.read_csv('Proc_Data/investment_merge.csv')\n",
    "result = pd.merge(df3, df4, on=['Area', 'Year'])\n",
    "result.to_csv('Proc_Data/investment_merge.csv', index = False)"
   ]
  },
  {
   "cell_type": "code",
   "execution_count": null,
   "metadata": {},
   "outputs": [
    {
     "name": "stderr",
     "output_type": "stream",
     "text": [
      "c:\\users\\bbcc\\appdata\\local\\programs\\python\\python37\\lib\\site-packages\\pandas\\core\\frame.py:4133: SettingWithCopyWarning: \n",
      "A value is trying to be set on a copy of a slice from a DataFrame\n",
      "\n",
      "See the caveats in the documentation: https://pandas.pydata.org/pandas-docs/stable/user_guide/indexing.html#returning-a-view-versus-a-copy\n",
      "  errors=errors,\n"
     ]
    }
   ],
   "source": [
    "df = pd.read_csv('fao_data_crops_data.csv', encoding = 'ISO-8859-1')\n",
    "df1 = df.loc[(df['element'] == 'Yield')]\n",
    "df2 = df.loc[(df['element'] == 'Area Harvested')]\n",
    "df3 = df.loc[(df['element'] == 'Production Quantity')]\n",
    "df1.rename(columns = {'Value':'Yield'}, inplace = True)\n",
    "df2.rename(columns = {'Value':'Area Harvested'}, inplace = True) \n",
    "df3.rename(columns = {'Value':'Production Quantity'}, inplace = True)\n",
    "result = pd.merge(df1, df2, on=['country_or_area', 'year'])\n",
    "result.to_csv('Proc_Data/crop_data.csv', index = False)\n",
    "df4 = pd.read_csv('Proc_Data/crop_data.csv')\n",
    "result = pd.merge(df3, df4, on=['country_or_area', 'year'])\n",
    "result.to_csv('Proc_Data/crop_data.csv', index = False)"
   ]
  },
  {
   "cell_type": "code",
   "execution_count": 43,
   "metadata": {},
   "outputs": [
    {
     "name": "stdout",
     "output_type": "stream",
     "text": [
      "[]\n"
     ]
    }
   ],
   "source": [
    "df = pd.read_csv('Proc_Data/crop_data.csv', encoding = 'ISO-8859-1')\n",
    "a=df.category.unique()\n",
    "df1 = pd.read_csv('Proc_Data/Gross_and_temp.csv', encoding = 'ISO-8859-1')\n",
    "b = df1.Item.unique()\n",
    "c = [value for value in a if value in b]\n",
    "print(c)"
   ]
  },
  {
   "cell_type": "code",
   "execution_count": 44,
   "metadata": {},
   "outputs": [
    {
     "name": "stdout",
     "output_type": "stream",
     "text": [
      "['Meat live weight, cattle', 'Meat live weight, sheep', 'Meat live weight, chicken', 'Meat live weight, duck', 'Meat live weight, goat', 'Meat live weight, goose', 'Meat live weight, pig', 'Meat live weight, turkey', 'Meat, cattle', 'Meat, chicken', 'Meat, goat', 'Meat, pig', 'Meat, sheep', 'Meat, turkey', 'Seed cotton', 'Matï¿½', 'Meat live weight, horse', 'Meat live weight, rabbit', 'Meat, rabbit', 'Meat, duck', 'Meat, goose and guinea fowl', 'Meat, horse', 'Meat live weight, ass', 'Meat live weight, buffalo', 'Meat, buffalo', 'Oil, palm fruit', 'Peppermint', 'Meat live weight, mule', 'Hempseed', 'Meat live weight, camel', 'Meat, ass', 'Meat, camel', 'Meat, mule', 'Meat, bird nes', 'Meat live weight, poultry, other', 'Popcorn', 'Meat live weight, camelids, other', 'Meat, other camelids', 'Tea nes', 'Kapok fruit']\n",
      "['Meat indigenous, total', 'Milk,Total', 'Oilcrops Primary', 'Roots and Tubers,Total', 'Sugar, raw', 'Vegetables and Fruit Primary', 'Meat indigenous, camel', 'Meat indigenous, cattle', 'Meat indigenous, chicken', 'Meat indigenous, goat', 'Meat indigenous, sheep', 'Agriculture (PIN)', 'Cereals,Total', 'Crops (PIN)', 'Food (PIN)', 'Livestock (PIN)', 'Non Food (PIN)', 'Meat indigenous, pig', 'Meat indigenous, horse', 'Meat indigenous, rabbit', 'Meat indigenous, turkey', 'MatÃ©', 'Meat indigenous, duck', 'Meat indigenous, geese', 'Hemp tow waste', 'Meat indigenous, buffalo', 'Meat indigenous, other camelids', 'Meat indigenous, rodents', 'Meat indigenous, ass', 'Meat indigenous, mule', 'Meat indigenous, bird nes']\n"
     ]
    }
   ],
   "source": [
    "df = pd.read_csv('current_FAO/raw_files/Prices_E_All_Data_(Normalized).csv', encoding = 'ISO-8859-1')\n",
    "a=df.Item.unique()\n",
    "df1 = pd.read_csv('Proc_Data/Gross_and_temp.csv', encoding = 'ISO-8859-1')\n",
    "b = df1.Item.unique()\n",
    "c = [value for value in a if value in b]\n",
    "#print(c)\n",
    "d = [value for value in a if value not in b]\n",
    "print(d)\n",
    "e = [value for value in b if value not in a]\n",
    "print(e)\n"
   ]
  },
  {
   "cell_type": "code",
   "execution_count": 8,
   "metadata": {},
   "outputs": [
    {
     "ename": "FileNotFoundError",
     "evalue": "[Errno 2] No such file or directory: '.csv'",
     "output_type": "error",
     "traceback": [
      "\u001b[1;31m---------------------------------------------------------------------------\u001b[0m",
      "\u001b[1;31mFileNotFoundError\u001b[0m                         Traceback (most recent call last)",
      "\u001b[1;32m<ipython-input-8-dec10ec92dbc>\u001b[0m in \u001b[0;36m<module>\u001b[1;34m\u001b[0m\n\u001b[0;32m      1\u001b[0m \u001b[1;31m#I have no idea\u001b[0m\u001b[1;33m\u001b[0m\u001b[1;33m\u001b[0m\u001b[1;33m\u001b[0m\u001b[0m\n\u001b[1;32m----> 2\u001b[1;33m \u001b[0mdf\u001b[0m \u001b[1;33m=\u001b[0m \u001b[0mpd\u001b[0m\u001b[1;33m.\u001b[0m\u001b[0mread_csv\u001b[0m\u001b[1;33m(\u001b[0m\u001b[1;34m'.csv'\u001b[0m\u001b[1;33m,\u001b[0m \u001b[0mencoding\u001b[0m \u001b[1;33m=\u001b[0m \u001b[1;34m'ISO-8859-1'\u001b[0m\u001b[1;33m)\u001b[0m\u001b[1;33m\u001b[0m\u001b[1;33m\u001b[0m\u001b[0m\n\u001b[0m\u001b[0;32m      3\u001b[0m \u001b[1;33m\u001b[0m\u001b[0m\n\u001b[0;32m      4\u001b[0m \u001b[0mdf_gfc\u001b[0m \u001b[1;33m=\u001b[0m \u001b[0mdf\u001b[0m\u001b[1;33m.\u001b[0m\u001b[0mloc\u001b[0m\u001b[1;33m[\u001b[0m\u001b[1;33m(\u001b[0m\u001b[0mdf\u001b[0m\u001b[1;33m[\u001b[0m\u001b[1;34m'Item'\u001b[0m\u001b[1;33m]\u001b[0m \u001b[1;33m==\u001b[0m \u001b[1;34m'Gross Fixed Capital Formation (Agriculture, Forestry and Fishing)'\u001b[0m\u001b[1;33m)\u001b[0m \u001b[1;33m&\u001b[0m \u001b[1;33m(\u001b[0m\u001b[0mdf\u001b[0m\u001b[1;33m[\u001b[0m\u001b[1;34m'Element'\u001b[0m\u001b[1;33m]\u001b[0m\u001b[1;33m==\u001b[0m\u001b[1;34m'Value US$'\u001b[0m\u001b[1;33m)\u001b[0m\u001b[1;33m]\u001b[0m\u001b[1;33m\u001b[0m\u001b[1;33m\u001b[0m\u001b[0m\n\u001b[0;32m      5\u001b[0m \u001b[1;33m\u001b[0m\u001b[0m\n",
      "\u001b[1;32mc:\\users\\bbcc\\appdata\\local\\programs\\python\\python37\\lib\\site-packages\\pandas\\io\\parsers.py\u001b[0m in \u001b[0;36mparser_f\u001b[1;34m(filepath_or_buffer, sep, delimiter, header, names, index_col, usecols, squeeze, prefix, mangle_dupe_cols, dtype, engine, converters, true_values, false_values, skipinitialspace, skiprows, skipfooter, nrows, na_values, keep_default_na, na_filter, verbose, skip_blank_lines, parse_dates, infer_datetime_format, keep_date_col, date_parser, dayfirst, cache_dates, iterator, chunksize, compression, thousands, decimal, lineterminator, quotechar, quoting, doublequote, escapechar, comment, encoding, dialect, error_bad_lines, warn_bad_lines, delim_whitespace, low_memory, memory_map, float_precision)\u001b[0m\n\u001b[0;32m    674\u001b[0m         )\n\u001b[0;32m    675\u001b[0m \u001b[1;33m\u001b[0m\u001b[0m\n\u001b[1;32m--> 676\u001b[1;33m         \u001b[1;32mreturn\u001b[0m \u001b[0m_read\u001b[0m\u001b[1;33m(\u001b[0m\u001b[0mfilepath_or_buffer\u001b[0m\u001b[1;33m,\u001b[0m \u001b[0mkwds\u001b[0m\u001b[1;33m)\u001b[0m\u001b[1;33m\u001b[0m\u001b[1;33m\u001b[0m\u001b[0m\n\u001b[0m\u001b[0;32m    677\u001b[0m \u001b[1;33m\u001b[0m\u001b[0m\n\u001b[0;32m    678\u001b[0m     \u001b[0mparser_f\u001b[0m\u001b[1;33m.\u001b[0m\u001b[0m__name__\u001b[0m \u001b[1;33m=\u001b[0m \u001b[0mname\u001b[0m\u001b[1;33m\u001b[0m\u001b[1;33m\u001b[0m\u001b[0m\n",
      "\u001b[1;32mc:\\users\\bbcc\\appdata\\local\\programs\\python\\python37\\lib\\site-packages\\pandas\\io\\parsers.py\u001b[0m in \u001b[0;36m_read\u001b[1;34m(filepath_or_buffer, kwds)\u001b[0m\n\u001b[0;32m    446\u001b[0m \u001b[1;33m\u001b[0m\u001b[0m\n\u001b[0;32m    447\u001b[0m     \u001b[1;31m# Create the parser.\u001b[0m\u001b[1;33m\u001b[0m\u001b[1;33m\u001b[0m\u001b[1;33m\u001b[0m\u001b[0m\n\u001b[1;32m--> 448\u001b[1;33m     \u001b[0mparser\u001b[0m \u001b[1;33m=\u001b[0m \u001b[0mTextFileReader\u001b[0m\u001b[1;33m(\u001b[0m\u001b[0mfp_or_buf\u001b[0m\u001b[1;33m,\u001b[0m \u001b[1;33m**\u001b[0m\u001b[0mkwds\u001b[0m\u001b[1;33m)\u001b[0m\u001b[1;33m\u001b[0m\u001b[1;33m\u001b[0m\u001b[0m\n\u001b[0m\u001b[0;32m    449\u001b[0m \u001b[1;33m\u001b[0m\u001b[0m\n\u001b[0;32m    450\u001b[0m     \u001b[1;32mif\u001b[0m \u001b[0mchunksize\u001b[0m \u001b[1;32mor\u001b[0m \u001b[0miterator\u001b[0m\u001b[1;33m:\u001b[0m\u001b[1;33m\u001b[0m\u001b[1;33m\u001b[0m\u001b[0m\n",
      "\u001b[1;32mc:\\users\\bbcc\\appdata\\local\\programs\\python\\python37\\lib\\site-packages\\pandas\\io\\parsers.py\u001b[0m in \u001b[0;36m__init__\u001b[1;34m(self, f, engine, **kwds)\u001b[0m\n\u001b[0;32m    878\u001b[0m             \u001b[0mself\u001b[0m\u001b[1;33m.\u001b[0m\u001b[0moptions\u001b[0m\u001b[1;33m[\u001b[0m\u001b[1;34m\"has_index_names\"\u001b[0m\u001b[1;33m]\u001b[0m \u001b[1;33m=\u001b[0m \u001b[0mkwds\u001b[0m\u001b[1;33m[\u001b[0m\u001b[1;34m\"has_index_names\"\u001b[0m\u001b[1;33m]\u001b[0m\u001b[1;33m\u001b[0m\u001b[1;33m\u001b[0m\u001b[0m\n\u001b[0;32m    879\u001b[0m \u001b[1;33m\u001b[0m\u001b[0m\n\u001b[1;32m--> 880\u001b[1;33m         \u001b[0mself\u001b[0m\u001b[1;33m.\u001b[0m\u001b[0m_make_engine\u001b[0m\u001b[1;33m(\u001b[0m\u001b[0mself\u001b[0m\u001b[1;33m.\u001b[0m\u001b[0mengine\u001b[0m\u001b[1;33m)\u001b[0m\u001b[1;33m\u001b[0m\u001b[1;33m\u001b[0m\u001b[0m\n\u001b[0m\u001b[0;32m    881\u001b[0m \u001b[1;33m\u001b[0m\u001b[0m\n\u001b[0;32m    882\u001b[0m     \u001b[1;32mdef\u001b[0m \u001b[0mclose\u001b[0m\u001b[1;33m(\u001b[0m\u001b[0mself\u001b[0m\u001b[1;33m)\u001b[0m\u001b[1;33m:\u001b[0m\u001b[1;33m\u001b[0m\u001b[1;33m\u001b[0m\u001b[0m\n",
      "\u001b[1;32mc:\\users\\bbcc\\appdata\\local\\programs\\python\\python37\\lib\\site-packages\\pandas\\io\\parsers.py\u001b[0m in \u001b[0;36m_make_engine\u001b[1;34m(self, engine)\u001b[0m\n\u001b[0;32m   1112\u001b[0m     \u001b[1;32mdef\u001b[0m \u001b[0m_make_engine\u001b[0m\u001b[1;33m(\u001b[0m\u001b[0mself\u001b[0m\u001b[1;33m,\u001b[0m \u001b[0mengine\u001b[0m\u001b[1;33m=\u001b[0m\u001b[1;34m\"c\"\u001b[0m\u001b[1;33m)\u001b[0m\u001b[1;33m:\u001b[0m\u001b[1;33m\u001b[0m\u001b[1;33m\u001b[0m\u001b[0m\n\u001b[0;32m   1113\u001b[0m         \u001b[1;32mif\u001b[0m \u001b[0mengine\u001b[0m \u001b[1;33m==\u001b[0m \u001b[1;34m\"c\"\u001b[0m\u001b[1;33m:\u001b[0m\u001b[1;33m\u001b[0m\u001b[1;33m\u001b[0m\u001b[0m\n\u001b[1;32m-> 1114\u001b[1;33m             \u001b[0mself\u001b[0m\u001b[1;33m.\u001b[0m\u001b[0m_engine\u001b[0m \u001b[1;33m=\u001b[0m \u001b[0mCParserWrapper\u001b[0m\u001b[1;33m(\u001b[0m\u001b[0mself\u001b[0m\u001b[1;33m.\u001b[0m\u001b[0mf\u001b[0m\u001b[1;33m,\u001b[0m \u001b[1;33m**\u001b[0m\u001b[0mself\u001b[0m\u001b[1;33m.\u001b[0m\u001b[0moptions\u001b[0m\u001b[1;33m)\u001b[0m\u001b[1;33m\u001b[0m\u001b[1;33m\u001b[0m\u001b[0m\n\u001b[0m\u001b[0;32m   1115\u001b[0m         \u001b[1;32melse\u001b[0m\u001b[1;33m:\u001b[0m\u001b[1;33m\u001b[0m\u001b[1;33m\u001b[0m\u001b[0m\n\u001b[0;32m   1116\u001b[0m             \u001b[1;32mif\u001b[0m \u001b[0mengine\u001b[0m \u001b[1;33m==\u001b[0m \u001b[1;34m\"python\"\u001b[0m\u001b[1;33m:\u001b[0m\u001b[1;33m\u001b[0m\u001b[1;33m\u001b[0m\u001b[0m\n",
      "\u001b[1;32mc:\\users\\bbcc\\appdata\\local\\programs\\python\\python37\\lib\\site-packages\\pandas\\io\\parsers.py\u001b[0m in \u001b[0;36m__init__\u001b[1;34m(self, src, **kwds)\u001b[0m\n\u001b[0;32m   1872\u001b[0m         \u001b[1;32mif\u001b[0m \u001b[0mkwds\u001b[0m\u001b[1;33m.\u001b[0m\u001b[0mget\u001b[0m\u001b[1;33m(\u001b[0m\u001b[1;34m\"compression\"\u001b[0m\u001b[1;33m)\u001b[0m \u001b[1;32mis\u001b[0m \u001b[1;32mNone\u001b[0m \u001b[1;32mand\u001b[0m \u001b[0mencoding\u001b[0m\u001b[1;33m:\u001b[0m\u001b[1;33m\u001b[0m\u001b[1;33m\u001b[0m\u001b[0m\n\u001b[0;32m   1873\u001b[0m             \u001b[1;32mif\u001b[0m \u001b[0misinstance\u001b[0m\u001b[1;33m(\u001b[0m\u001b[0msrc\u001b[0m\u001b[1;33m,\u001b[0m \u001b[0mstr\u001b[0m\u001b[1;33m)\u001b[0m\u001b[1;33m:\u001b[0m\u001b[1;33m\u001b[0m\u001b[1;33m\u001b[0m\u001b[0m\n\u001b[1;32m-> 1874\u001b[1;33m                 \u001b[0msrc\u001b[0m \u001b[1;33m=\u001b[0m \u001b[0mopen\u001b[0m\u001b[1;33m(\u001b[0m\u001b[0msrc\u001b[0m\u001b[1;33m,\u001b[0m \u001b[1;34m\"rb\"\u001b[0m\u001b[1;33m)\u001b[0m\u001b[1;33m\u001b[0m\u001b[1;33m\u001b[0m\u001b[0m\n\u001b[0m\u001b[0;32m   1875\u001b[0m                 \u001b[0mself\u001b[0m\u001b[1;33m.\u001b[0m\u001b[0mhandles\u001b[0m\u001b[1;33m.\u001b[0m\u001b[0mappend\u001b[0m\u001b[1;33m(\u001b[0m\u001b[0msrc\u001b[0m\u001b[1;33m)\u001b[0m\u001b[1;33m\u001b[0m\u001b[1;33m\u001b[0m\u001b[0m\n\u001b[0;32m   1876\u001b[0m \u001b[1;33m\u001b[0m\u001b[0m\n",
      "\u001b[1;31mFileNotFoundError\u001b[0m: [Errno 2] No such file or directory: '.csv'"
     ]
    }
   ],
   "source": [
    "#I have no idea\n",
    "df = pd.read_csv('.csv', encoding = 'ISO-8859-1')\n",
    "\n",
    "df_gfc = df.loc[(df['Item'] == 'Gross Fixed Capital Formation (Agriculture, Forestry and Fishing)') & (df['Element']=='Value US$')]\n",
    "\n",
    "df_cfc = df.loc[(df['Item'] == 'Consumption of Fixed Capital (Agriculture, Forestry and Fishing)') & (df['Element']=='Value US$')]\n",
    "\n",
    "df_ncs = df.loc[(df['Item'] == 'Net Capital Stocks (Agriculture, Forestry and Fishing)') & (df['Element']=='Value US$')]\n",
    "\n",
    "df_gcs = df.loc[(df['Item'] == 'Gross Capital Stocks (Agriculture, Forestry and Fishing)') & (df['Element']=='Value US$')]\n",
    "\n",
    "df_gfc.to_csv('Proc_Data/Gross_fixed_capital_formation.csv', index = False)\n",
    "df_cfc.to_csv('Proc_Data/Consumption_fixed_capital.csv', index = False)\n",
    "df_ncs.to_csv('Proc_Data/Net_capital_stocks.csv', index = False)\n",
    "df_gcs.to_csv('Proc_Data/Gross_capital_stocks.csv', index = False)"
   ]
  },
  {
   "cell_type": "code",
   "execution_count": 9,
   "metadata": {
    "scrolled": true
   },
   "outputs": [
    {
     "name": "stdout",
     "output_type": "stream",
     "text": [
      "(270966, 10)\n"
     ]
    }
   ],
   "source": [
    "df1 = pd.read_csv('current_FAO/raw_files/PricesArchive_E_All_Data.csv', encoding = 'ISO-8859-1')\n",
    "#Unit - LCU\n",
    "#print(df1.columns)\n",
    "df2 = pd.read_csv('current_FAO/raw_files/Prices_E_All_Data_(Normalized).csv', encoding = 'ISO-8859-1')\n",
    "#Unit - LCU, SLC, USD\n",
    "#print(df2.columns)\n",
    "df2.drop(df2[(df2.Unit != 'LCU')].index, inplace = True)\n",
    "\n",
    "df1.drop(columns = 'ElementGroup', inplace = True)\n",
    "df2.drop(columns = 'Year Code', inplace = True)\n",
    "\n",
    "df1.columns = ['Area Code', 'Area', 'Item Code', 'Item', 'Element Code', 'Element',\n",
    "             'Year', 'Unit', 'Value', 'Flag']\n",
    "df2.rename(columns = {'Country':'Area'}, inplace = True) \n",
    "df = df2.append(df1)\n",
    "print(df.shape)\n",
    "\n",
    "df.to_csv('Proc_Data/Prices.csv', index = False)"
   ]
  },
  {
   "cell_type": "code",
   "execution_count": 4,
   "metadata": {},
   "outputs": [
    {
     "name": "stderr",
     "output_type": "stream",
     "text": [
      "c:\\users\\bbcc\\appdata\\local\\programs\\python\\python37\\lib\\site-packages\\pandas\\core\\frame.py:3997: SettingWithCopyWarning: \n",
      "A value is trying to be set on a copy of a slice from a DataFrame\n",
      "\n",
      "See the caveats in the documentation: https://pandas.pydata.org/pandas-docs/stable/user_guide/indexing.html#returning-a-view-versus-a-copy\n",
      "  errors=errors,\n",
      "c:\\users\\bbcc\\appdata\\local\\programs\\python\\python37\\lib\\site-packages\\pandas\\core\\frame.py:4133: SettingWithCopyWarning: \n",
      "A value is trying to be set on a copy of a slice from a DataFrame\n",
      "\n",
      "See the caveats in the documentation: https://pandas.pydata.org/pandas-docs/stable/user_guide/indexing.html#returning-a-view-versus-a-copy\n",
      "  errors=errors,\n"
     ]
    },
    {
     "name": "stdout",
     "output_type": "stream",
     "text": [
      "         Area Code                                     Area  \\\n",
      "79               2                              Afghanistan   \n",
      "80               2                              Afghanistan   \n",
      "81               2                              Afghanistan   \n",
      "82               2                              Afghanistan   \n",
      "83               2                              Afghanistan   \n",
      "...            ...                                      ...   \n",
      "2597203       5817  Net Food Importing Developing Countries   \n",
      "2597204       5817  Net Food Importing Developing Countries   \n",
      "2597205       5817  Net Food Importing Developing Countries   \n",
      "2597206       5817  Net Food Importing Developing Countries   \n",
      "2597207       5817  Net Food Importing Developing Countries   \n",
      "\n",
      "                             Item  Year  Production(tonnes)  \n",
      "79            Almonds, with shell  1975                 0.0  \n",
      "80            Almonds, with shell  1976              9800.0  \n",
      "81            Almonds, with shell  1977              9000.0  \n",
      "82            Almonds, with shell  1978             12000.0  \n",
      "83            Almonds, with shell  1979             10500.0  \n",
      "...                           ...   ...                 ...  \n",
      "2597203  Vegetables&Melons, Total  2010          78973325.0  \n",
      "2597204  Vegetables&Melons, Total  2011          80252302.0  \n",
      "2597205  Vegetables&Melons, Total  2012          81560479.0  \n",
      "2597206  Vegetables&Melons, Total  2013          82313348.0  \n",
      "2597207  Vegetables&Melons, Total  2014          86096816.0  \n",
      "\n",
      "[833648 rows x 5 columns]\n"
     ]
    }
   ],
   "source": [
    "df = pd.read_csv('current_FAO/raw_files/Production_Crops_E_All_Data_(Normalized).csv', encoding = 'ISO-8859-1')\n",
    "\n",
    "df_prod = df.loc[(df['Element']=='Production')]\n",
    "\n",
    "df_prod.drop(['Item Code', 'Element', 'Element Code', 'Flag', 'Unit', 'Year Code'], 1, inplace = True)\n",
    "\n",
    "df_prod.rename(columns = {'Value':'Production(tonnes)'}, inplace = True) \n",
    "print(df_prod)\n",
    "df_prod.to_csv('Proc_Data/production.csv', header = ['Area Code','Area', 'Item', 'Year', 'Value(in $)'], index = False)"
   ]
  },
  {
   "cell_type": "code",
   "execution_count": 7,
   "metadata": {},
   "outputs": [
    {
     "data": {
      "text/html": [
       "<div>\n",
       "<style scoped>\n",
       "    .dataframe tbody tr th:only-of-type {\n",
       "        vertical-align: middle;\n",
       "    }\n",
       "\n",
       "    .dataframe tbody tr th {\n",
       "        vertical-align: top;\n",
       "    }\n",
       "\n",
       "    .dataframe thead th {\n",
       "        text-align: right;\n",
       "    }\n",
       "</style>\n",
       "<table border=\"1\" class=\"dataframe\">\n",
       "  <thead>\n",
       "    <tr style=\"text-align: right;\">\n",
       "      <th></th>\n",
       "      <th>Area Code</th>\n",
       "      <th>Region</th>\n",
       "      <th>Item</th>\n",
       "      <th>Year</th>\n",
       "      <th>Value(in $)</th>\n",
       "      <th>Temp difference</th>\n",
       "    </tr>\n",
       "  </thead>\n",
       "  <tbody>\n",
       "    <tr>\n",
       "      <th>0</th>\n",
       "      <td>2</td>\n",
       "      <td>Afghanistan</td>\n",
       "      <td>Almonds, with shell</td>\n",
       "      <td>1975</td>\n",
       "      <td>0.0</td>\n",
       "      <td>-0.659875</td>\n",
       "    </tr>\n",
       "    <tr>\n",
       "      <th>1</th>\n",
       "      <td>2</td>\n",
       "      <td>Afghanistan</td>\n",
       "      <td>Anise, badian, fennel, coriander</td>\n",
       "      <td>1975</td>\n",
       "      <td>NaN</td>\n",
       "      <td>-0.659875</td>\n",
       "    </tr>\n",
       "    <tr>\n",
       "      <th>2</th>\n",
       "      <td>2</td>\n",
       "      <td>Afghanistan</td>\n",
       "      <td>Apples</td>\n",
       "      <td>1975</td>\n",
       "      <td>27900.0</td>\n",
       "      <td>-0.659875</td>\n",
       "    </tr>\n",
       "    <tr>\n",
       "      <th>3</th>\n",
       "      <td>2</td>\n",
       "      <td>Afghanistan</td>\n",
       "      <td>Apricots</td>\n",
       "      <td>1975</td>\n",
       "      <td>59500.0</td>\n",
       "      <td>-0.659875</td>\n",
       "    </tr>\n",
       "    <tr>\n",
       "      <th>4</th>\n",
       "      <td>2</td>\n",
       "      <td>Afghanistan</td>\n",
       "      <td>Barley</td>\n",
       "      <td>1975</td>\n",
       "      <td>384000.0</td>\n",
       "      <td>-0.659875</td>\n",
       "    </tr>\n",
       "    <tr>\n",
       "      <th>...</th>\n",
       "      <td>...</td>\n",
       "      <td>...</td>\n",
       "      <td>...</td>\n",
       "      <td>...</td>\n",
       "      <td>...</td>\n",
       "      <td>...</td>\n",
       "    </tr>\n",
       "    <tr>\n",
       "      <th>811448</th>\n",
       "      <td>5817</td>\n",
       "      <td>Net Food Importing Developing Countries</td>\n",
       "      <td>Pulses,Total</td>\n",
       "      <td>2014</td>\n",
       "      <td>22451521.0</td>\n",
       "      <td>0.898062</td>\n",
       "    </tr>\n",
       "    <tr>\n",
       "      <th>811449</th>\n",
       "      <td>5817</td>\n",
       "      <td>Net Food Importing Developing Countries</td>\n",
       "      <td>Roots and Tubers,Total</td>\n",
       "      <td>2014</td>\n",
       "      <td>165374869.0</td>\n",
       "      <td>0.898062</td>\n",
       "    </tr>\n",
       "    <tr>\n",
       "      <th>811450</th>\n",
       "      <td>5817</td>\n",
       "      <td>Net Food Importing Developing Countries</td>\n",
       "      <td>Treenuts,Total</td>\n",
       "      <td>2014</td>\n",
       "      <td>1813618.0</td>\n",
       "      <td>0.898062</td>\n",
       "    </tr>\n",
       "    <tr>\n",
       "      <th>811451</th>\n",
       "      <td>5817</td>\n",
       "      <td>Net Food Importing Developing Countries</td>\n",
       "      <td>Vegetables Primary</td>\n",
       "      <td>2014</td>\n",
       "      <td>86096816.0</td>\n",
       "      <td>0.898062</td>\n",
       "    </tr>\n",
       "    <tr>\n",
       "      <th>811452</th>\n",
       "      <td>5817</td>\n",
       "      <td>Net Food Importing Developing Countries</td>\n",
       "      <td>Vegetables&amp;Melons, Total</td>\n",
       "      <td>2014</td>\n",
       "      <td>86096816.0</td>\n",
       "      <td>0.898062</td>\n",
       "    </tr>\n",
       "  </tbody>\n",
       "</table>\n",
       "<p>811453 rows × 6 columns</p>\n",
       "</div>"
      ],
      "text/plain": [
       "        Area Code                                   Region  \\\n",
       "0               2                              Afghanistan   \n",
       "1               2                              Afghanistan   \n",
       "2               2                              Afghanistan   \n",
       "3               2                              Afghanistan   \n",
       "4               2                              Afghanistan   \n",
       "...           ...                                      ...   \n",
       "811448       5817  Net Food Importing Developing Countries   \n",
       "811449       5817  Net Food Importing Developing Countries   \n",
       "811450       5817  Net Food Importing Developing Countries   \n",
       "811451       5817  Net Food Importing Developing Countries   \n",
       "811452       5817  Net Food Importing Developing Countries   \n",
       "\n",
       "                                    Item  Year  Value(in $)  Temp difference  \n",
       "0                    Almonds, with shell  1975          0.0        -0.659875  \n",
       "1       Anise, badian, fennel, coriander  1975          NaN        -0.659875  \n",
       "2                                 Apples  1975      27900.0        -0.659875  \n",
       "3                               Apricots  1975      59500.0        -0.659875  \n",
       "4                                 Barley  1975     384000.0        -0.659875  \n",
       "...                                  ...   ...          ...              ...  \n",
       "811448                      Pulses,Total  2014   22451521.0         0.898062  \n",
       "811449            Roots and Tubers,Total  2014  165374869.0         0.898062  \n",
       "811450                    Treenuts,Total  2014    1813618.0         0.898062  \n",
       "811451                Vegetables Primary  2014   86096816.0         0.898062  \n",
       "811452          Vegetables&Melons, Total  2014   86096816.0         0.898062  \n",
       "\n",
       "[811453 rows x 6 columns]"
      ]
     },
     "execution_count": 7,
     "metadata": {},
     "output_type": "execute_result"
    }
   ],
   "source": [
    "df1 = pd.read_csv('Proc_Data/production.csv')\n",
    "df2 = pd.read_csv('Proc_Data/Temperature_change_by_country.csv')\n",
    "df2.rename(columns = {'Country':'Region'}, inplace = True)\n",
    "df1.rename(columns = {'Area':'Region'}, inplace = True) \n",
    "result = pd.merge(df1, df2, on=['Region', 'Year'])\n",
    "result.to_csv('Proc_Data/production_and_temp.csv', index = False)\n",
    "result"
   ]
  }
 ],
 "metadata": {
  "kernelspec": {
   "display_name": "Python 3",
   "language": "python",
   "name": "python3"
  },
  "language_info": {
   "codemirror_mode": {
    "name": "ipython",
    "version": 3
   },
   "file_extension": ".py",
   "mimetype": "text/x-python",
   "name": "python",
   "nbconvert_exporter": "python",
   "pygments_lexer": "ipython3",
   "version": "3.7.7"
  }
 },
 "nbformat": 4,
 "nbformat_minor": 4
}
