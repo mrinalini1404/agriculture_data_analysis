{
 "cells": [
  {
   "cell_type": "code",
   "execution_count": 1,
   "metadata": {},
   "outputs": [],
   "source": [
    "import numpy as np\n",
    "import pandas as pd\n",
    "from sklearn.linear_model import LinearRegression,Ridge,Lasso\n",
    "from sklearn.preprocessing import PolynomialFeatures\n",
    "from matplotlib import pyplot as plt\n",
    "from sklearn.neighbors import KNeighborsClassifier\n",
    "from sklearn.model_selection import cross_val_score,GridSearchCV\n",
    "from sklearn.model_selection import train_test_split\n",
    "from sklearn.metrics import r2_score,f1_score"
   ]
  },
  {
   "cell_type": "code",
   "execution_count": 2,
   "metadata": {},
   "outputs": [
    {
     "data": {
      "text/html": [
       "<div>\n",
       "<style scoped>\n",
       "    .dataframe tbody tr th:only-of-type {\n",
       "        vertical-align: middle;\n",
       "    }\n",
       "\n",
       "    .dataframe tbody tr th {\n",
       "        vertical-align: top;\n",
       "    }\n",
       "\n",
       "    .dataframe thead th {\n",
       "        text-align: right;\n",
       "    }\n",
       "</style>\n",
       "<table border=\"1\" class=\"dataframe\">\n",
       "  <thead>\n",
       "    <tr style=\"text-align: right;\">\n",
       "      <th></th>\n",
       "      <th>Area Code</th>\n",
       "      <th>Region</th>\n",
       "      <th>Item</th>\n",
       "      <th>Year</th>\n",
       "      <th>Value(in $)</th>\n",
       "      <th>Temp difference</th>\n",
       "    </tr>\n",
       "  </thead>\n",
       "  <tbody>\n",
       "    <tr>\n",
       "      <th>0</th>\n",
       "      <td>2</td>\n",
       "      <td>Afghanistan</td>\n",
       "      <td>Almonds, with shell</td>\n",
       "      <td>1975</td>\n",
       "      <td>0.0</td>\n",
       "      <td>-0.659875</td>\n",
       "    </tr>\n",
       "    <tr>\n",
       "      <th>1</th>\n",
       "      <td>2</td>\n",
       "      <td>Afghanistan</td>\n",
       "      <td>Anise, badian, fennel, coriander</td>\n",
       "      <td>1975</td>\n",
       "      <td>NaN</td>\n",
       "      <td>-0.659875</td>\n",
       "    </tr>\n",
       "    <tr>\n",
       "      <th>2</th>\n",
       "      <td>2</td>\n",
       "      <td>Afghanistan</td>\n",
       "      <td>Apples</td>\n",
       "      <td>1975</td>\n",
       "      <td>27900.0</td>\n",
       "      <td>-0.659875</td>\n",
       "    </tr>\n",
       "    <tr>\n",
       "      <th>3</th>\n",
       "      <td>2</td>\n",
       "      <td>Afghanistan</td>\n",
       "      <td>Apricots</td>\n",
       "      <td>1975</td>\n",
       "      <td>59500.0</td>\n",
       "      <td>-0.659875</td>\n",
       "    </tr>\n",
       "    <tr>\n",
       "      <th>4</th>\n",
       "      <td>2</td>\n",
       "      <td>Afghanistan</td>\n",
       "      <td>Barley</td>\n",
       "      <td>1975</td>\n",
       "      <td>384000.0</td>\n",
       "      <td>-0.659875</td>\n",
       "    </tr>\n",
       "  </tbody>\n",
       "</table>\n",
       "</div>"
      ],
      "text/plain": [
       "   Area Code       Region                              Item  Year  \\\n",
       "0          2  Afghanistan               Almonds, with shell  1975   \n",
       "1          2  Afghanistan  Anise, badian, fennel, coriander  1975   \n",
       "2          2  Afghanistan                            Apples  1975   \n",
       "3          2  Afghanistan                          Apricots  1975   \n",
       "4          2  Afghanistan                            Barley  1975   \n",
       "\n",
       "   Value(in $)  Temp difference  \n",
       "0          0.0        -0.659875  \n",
       "1          NaN        -0.659875  \n",
       "2      27900.0        -0.659875  \n",
       "3      59500.0        -0.659875  \n",
       "4     384000.0        -0.659875  "
      ]
     },
     "execution_count": 2,
     "metadata": {},
     "output_type": "execute_result"
    }
   ],
   "source": [
    "df = pd.read_csv('Proc_Data/production_and_temp.csv', encoding = 'ISO-8859-1')\n",
    "df.head()"
   ]
  },
  {
   "cell_type": "code",
   "execution_count": 3,
   "metadata": {},
   "outputs": [
    {
     "name": "stdout",
     "output_type": "stream",
     "text": [
      "['Afghanistan' 'Albania' 'Algeria' 'American Samoa' 'Angola' 'Argentina'\n",
      " 'Armenia' 'Australia' 'Austria' 'Azerbaijan' 'Bahamas' 'Bahrain'\n",
      " 'Bangladesh' 'Barbados' 'Belarus' 'Belgium' 'Belgium-Luxembourg' 'Belize'\n",
      " 'Benin' 'Bhutan' 'Bolivia (Plurinational State of)'\n",
      " 'Bosnia and Herzegovina' 'Botswana' 'Brazil' 'British Virgin Islands'\n",
      " 'Brunei Darussalam' 'Bulgaria' 'Burkina Faso' 'Burundi' 'Cabo Verde'\n",
      " 'Cambodia' 'Cameroon' 'Canada' 'Central African Republic' 'Chad' 'Chile'\n",
      " 'China' 'China, Hong Kong SAR' 'China, Macao SAR' 'China, mainland'\n",
      " 'China, Taiwan Province of' 'Colombia' 'Comoros' 'Congo' 'Cook Islands'\n",
      " 'Costa Rica' \"CÃ´te d'Ivoire\" 'Croatia' 'Cuba' 'Cyprus' 'Czechia'\n",
      " 'Czechoslovakia' \"Democratic People's Republic of Korea\"\n",
      " 'Democratic Republic of the Congo' 'Denmark' 'Djibouti'\n",
      " 'Dominican Republic' 'Ecuador' 'Egypt' 'El Salvador' 'Equatorial Guinea'\n",
      " 'Eritrea' 'Estonia' 'Ethiopia' 'Ethiopia PDR' 'Faroe Islands' 'Fiji'\n",
      " 'Finland' 'France' 'French Guiana' 'French Polynesia' 'Gabon' 'Gambia'\n",
      " 'Georgia' 'Germany' 'Ghana' 'Greece' 'Guadeloupe' 'Guatemala' 'Guinea'\n",
      " 'Guinea-Bissau' 'Guyana' 'Haiti' 'Honduras' 'Hungary' 'Iceland' 'India'\n",
      " 'Indonesia' 'Iran (Islamic Republic of)' 'Iraq' 'Ireland' 'Israel'\n",
      " 'Italy' 'Japan' 'Jordan' 'Kazakhstan' 'Kenya' 'Kiribati' 'Kuwait'\n",
      " 'Kyrgyzstan' \"Lao People's Democratic Republic\" 'Latvia' 'Lebanon'\n",
      " 'Lesotho' 'Liberia' 'Libya' 'Liechtenstein' 'Lithuania' 'Luxembourg'\n",
      " 'Madagascar' 'Malawi' 'Malaysia' 'Maldives' 'Mali' 'Malta'\n",
      " 'Marshall Islands' 'Martinique' 'Mauritania' 'Mauritius' 'Mexico'\n",
      " 'Micronesia (Federated States of)' 'Mongolia' 'Montenegro' 'Morocco'\n",
      " 'Mozambique' 'Myanmar' 'Namibia' 'Nauru' 'Nepal' 'Netherlands'\n",
      " 'New Caledonia' 'New Zealand' 'Nicaragua' 'Niger' 'Nigeria' 'Niue'\n",
      " 'Norway' 'Occupied Palestinian Territory' 'Oman'\n",
      " 'Pacific Islands Trust Territory' 'Pakistan' 'Panama' 'Papua New Guinea'\n",
      " 'Paraguay' 'Peru' 'Philippines' 'Poland' 'Portugal' 'Puerto Rico' 'Qatar'\n",
      " 'Republic of Korea' 'Republic of Moldova' 'RÃ©union' 'Romania'\n",
      " 'Russian Federation' 'Rwanda'\n",
      " 'Saint Helena, Ascension and Tristan da Cunha' 'Saint Lucia'\n",
      " 'Saint Pierre and Miquelon' 'Samoa' 'Sao Tome and Principe'\n",
      " 'Saudi Arabia' 'Senegal' 'Serbia' 'Serbia and Montenegro' 'Seychelles'\n",
      " 'Sierra Leone' 'Singapore' 'Slovakia' 'Slovenia' 'Solomon Islands'\n",
      " 'Somalia' 'South Africa' 'South Sudan' 'Spain' 'Sri Lanka' 'Sudan'\n",
      " 'Sudan (former)' 'Suriname' 'Swaziland' 'Sweden' 'Switzerland'\n",
      " 'Syrian Arab Republic' 'Tajikistan' 'Thailand'\n",
      " 'The former Yugoslav Republic of Macedonia' 'Timor-Leste' 'Togo'\n",
      " 'Tokelau' 'Tonga' 'Tunisia' 'Turkey' 'Turkmenistan' 'Tuvalu' 'Uganda'\n",
      " 'Ukraine' 'United Arab Emirates' 'United Kingdom'\n",
      " 'United Republic of Tanzania' 'United States of America'\n",
      " 'United States Virgin Islands' 'Uruguay' 'USSR' 'Uzbekistan' 'Vanuatu'\n",
      " 'Venezuela (Bolivarian Republic of)' 'Viet Nam'\n",
      " 'Wallis and Futuna Islands' 'Western Sahara' 'Yemen' 'Yugoslav SFR'\n",
      " 'Zambia' 'Zimbabwe' 'World' 'Africa' 'Eastern Africa' 'Middle Africa'\n",
      " 'Northern Africa' 'Southern Africa' 'Western Africa' 'Americas'\n",
      " 'Northern America' 'Central America' 'Caribbean' 'South America' 'Asia'\n",
      " 'Central Asia' 'Eastern Asia' 'Southern Asia' 'South-Eastern Asia'\n",
      " 'Western Asia' 'Europe' 'Eastern Europe' 'Northern Europe'\n",
      " 'Southern Europe' 'Western Europe' 'Oceania' 'Australia & New Zealand'\n",
      " 'Melanesia' 'Micronesia' 'Polynesia' 'European Union'\n",
      " 'Least Developed Countries' 'Land Locked Developing Countries'\n",
      " 'Small Island Developing States' 'Low Income Food Deficit Countries'\n",
      " 'Net Food Importing Developing Countries']\n",
      "(811453, 6)\n"
     ]
    }
   ],
   "source": [
    "print(df['Region'].unique())\n",
    "print(df.shape)"
   ]
  },
  {
   "cell_type": "code",
   "execution_count": 4,
   "metadata": {},
   "outputs": [
    {
     "name": "stdout",
     "output_type": "stream",
     "text": [
      "(589594, 6)\n"
     ]
    }
   ],
   "source": [
    "drop_countries = ['Occupied Palestinian Territory', 'World', 'Africa',\n",
    "                  'Eastern Africa', 'Middle Africa', 'Sudan (former)',\n",
    "                  'Northern Africa', 'Southern Africa', 'Western Africa',\n",
    "                  'Americas', 'Northern America', 'Central America',\n",
    "                  'Caribbean', 'South America', 'Asia', 'Central Asia',\n",
    "                  'Eastern Asia', 'Southern Asia', 'South-Eastern Asia',\n",
    "                  'Western Asia', 'Europe', 'Eastern Europe', 'South Sudan',\n",
    "                  'Northern Europe', 'Southern Europe', 'Ethiopia PDR',\n",
    "                  'Western Europe', 'Oceania' 'Australia & New Zealand',\n",
    "                  'Melanesia', 'Micronesia', 'Polynesia', 'European Union',\n",
    "                  'Least Developed Countries', 'Land Locked Developing Countries',\n",
    "                  'Small Island Developing States', 'Netherlands Antilles (former)',\n",
    "                  'Low Income Food Deficit Countries', 'Net Food Importing Developing Countries']\n",
    "for x in drop_countries:\n",
    "    df.drop(df[df['Region'] == x].index, axis = 0, inplace = True)\n",
    "print(df.shape)"
   ]
  },
  {
   "cell_type": "code",
   "execution_count": 5,
   "metadata": {},
   "outputs": [
    {
     "data": {
      "text/html": [
       "<div>\n",
       "<style scoped>\n",
       "    .dataframe tbody tr th:only-of-type {\n",
       "        vertical-align: middle;\n",
       "    }\n",
       "\n",
       "    .dataframe tbody tr th {\n",
       "        vertical-align: top;\n",
       "    }\n",
       "\n",
       "    .dataframe thead th {\n",
       "        text-align: right;\n",
       "    }\n",
       "</style>\n",
       "<table border=\"1\" class=\"dataframe\">\n",
       "  <thead>\n",
       "    <tr style=\"text-align: right;\">\n",
       "      <th></th>\n",
       "      <th>Area Code</th>\n",
       "      <th>Region</th>\n",
       "    </tr>\n",
       "  </thead>\n",
       "  <tbody>\n",
       "    <tr>\n",
       "      <th>0</th>\n",
       "      <td>2</td>\n",
       "      <td>Afghanistan</td>\n",
       "    </tr>\n",
       "    <tr>\n",
       "      <th>1</th>\n",
       "      <td>2</td>\n",
       "      <td>Afghanistan</td>\n",
       "    </tr>\n",
       "    <tr>\n",
       "      <th>2</th>\n",
       "      <td>2</td>\n",
       "      <td>Afghanistan</td>\n",
       "    </tr>\n",
       "    <tr>\n",
       "      <th>3</th>\n",
       "      <td>2</td>\n",
       "      <td>Afghanistan</td>\n",
       "    </tr>\n",
       "    <tr>\n",
       "      <th>4</th>\n",
       "      <td>2</td>\n",
       "      <td>Afghanistan</td>\n",
       "    </tr>\n",
       "    <tr>\n",
       "      <th>...</th>\n",
       "      <td>...</td>\n",
       "      <td>...</td>\n",
       "    </tr>\n",
       "    <tr>\n",
       "      <th>589589</th>\n",
       "      <td>5501</td>\n",
       "      <td>Australia &amp; New Zealand</td>\n",
       "    </tr>\n",
       "    <tr>\n",
       "      <th>589590</th>\n",
       "      <td>5501</td>\n",
       "      <td>Australia &amp; New Zealand</td>\n",
       "    </tr>\n",
       "    <tr>\n",
       "      <th>589591</th>\n",
       "      <td>5501</td>\n",
       "      <td>Australia &amp; New Zealand</td>\n",
       "    </tr>\n",
       "    <tr>\n",
       "      <th>589592</th>\n",
       "      <td>5501</td>\n",
       "      <td>Australia &amp; New Zealand</td>\n",
       "    </tr>\n",
       "    <tr>\n",
       "      <th>589593</th>\n",
       "      <td>5501</td>\n",
       "      <td>Australia &amp; New Zealand</td>\n",
       "    </tr>\n",
       "  </tbody>\n",
       "</table>\n",
       "<p>589594 rows × 2 columns</p>\n",
       "</div>"
      ],
      "text/plain": [
       "        Area Code                   Region\n",
       "0               2              Afghanistan\n",
       "1               2              Afghanistan\n",
       "2               2              Afghanistan\n",
       "3               2              Afghanistan\n",
       "4               2              Afghanistan\n",
       "...           ...                      ...\n",
       "589589       5501  Australia & New Zealand\n",
       "589590       5501  Australia & New Zealand\n",
       "589591       5501  Australia & New Zealand\n",
       "589592       5501  Australia & New Zealand\n",
       "589593       5501  Australia & New Zealand\n",
       "\n",
       "[589594 rows x 2 columns]"
      ]
     },
     "execution_count": 5,
     "metadata": {},
     "output_type": "execute_result"
    }
   ],
   "source": [
    "df_country_code=df[['Area Code','Region']]\n",
    "df_country_code.reset_index(drop=True, inplace=True)\n",
    "df_country_code"
   ]
  },
  {
   "cell_type": "code",
   "execution_count": 6,
   "metadata": {},
   "outputs": [
    {
     "name": "stdout",
     "output_type": "stream",
     "text": [
      "(589594, 6)\n"
     ]
    }
   ],
   "source": [
    "drop_crops = ['Crops (PIN)', 'Food (PIN)', 'Livestock (PIN)',\n",
    "              'Non Food (PIN)', 'Vegetables and Fruit Primary',\n",
    "             'Agriculture (PIN)']\n",
    "for x in drop_crops:\n",
    "    df.drop(df[df['Item'] == x].index, axis = 0, inplace = True)\n",
    "print(df.shape)"
   ]
  },
  {
   "cell_type": "code",
   "execution_count": 7,
   "metadata": {},
   "outputs": [
    {
     "name": "stdout",
     "output_type": "stream",
     "text": [
      "Item              Region     \n",
      "Agave fibres nes  Colombia       1327079.0\n",
      "                  Cuba            495761.0\n",
      "                  Mexico          254588.0\n",
      "                  El Salvador     244316.0\n",
      "                  Philippines     181296.0\n",
      "                                   ...    \n",
      "Yautia (cocoyam)  El Salvador    1016626.0\n",
      "                  Costa Rica      444368.0\n",
      "                  Panama          331375.0\n",
      "                  Mexico           88202.0\n",
      "                  Puerto Rico      27672.0\n",
      "Name: Value(in $), Length: 1718, dtype: float64\n"
     ]
    }
   ],
   "source": [
    "df_grouped_summed = df.groupby(['Item','Region']).sum()\n",
    "df_grouped_summed.drop(columns=['Year'],inplace=True,axis=1)\n",
    "g = df_grouped_summed['Value(in $)'].groupby(level=0, group_keys=False)\n",
    "df_top = g.nlargest(10)\n",
    "print(df_top)"
   ]
  },
  {
   "cell_type": "code",
   "execution_count": 8,
   "metadata": {},
   "outputs": [
    {
     "name": "stdout",
     "output_type": "stream",
     "text": [
      "['Almonds, with shell' 'Anise, badian, fennel, coriander' 'Apples'\n",
      " 'Apricots' 'Barley' 'Berries nes' 'Cotton lint' 'Cottonseed' 'Figs'\n",
      " 'Fruit, citrus nes' 'Fruit, fresh nes' 'Fruit, stone nes' 'Grapes'\n",
      " 'Linseed' 'Maize' 'Melons, other (inc.cantaloupes)' 'Millet' 'Nuts, nes'\n",
      " 'Olives' 'Oranges' 'Peaches and nectarines' 'Pears' 'Pistachios'\n",
      " 'Plums and sloes' 'Potatoes' 'Pulses, nes' 'Rice, paddy' 'Seed cotton'\n",
      " 'Sesame seed' 'Sugar beet' 'Sugar cane' 'Sunflower seed'\n",
      " 'Vegetables, fresh nes' 'Walnuts, with shell' 'Watermelons' 'Wheat'\n",
      " 'Cereals (Rice Milled Eqv)' 'Cereals,Total' 'Citrus Fruit,Total'\n",
      " 'Coarse Grain, Total' 'Fibre Crops Primary' 'Fruit excl Melons,Total'\n",
      " 'Oilcakes Equivalent' 'Oilcrops Primary' 'Pulses,Total'\n",
      " 'Roots and Tubers,Total' 'Treenuts,Total' 'Vegetables Primary'\n",
      " 'Vegetables&Melons, Total' 'Beans, dry' 'Beans, green'\n",
      " 'Broad beans, horse beans, dry' 'Cabbages and other brassicas'\n",
      " 'Carrots and turnips' 'Cauliflowers and broccoli' 'Cherries'\n",
      " 'Cherries, sour' 'Chestnut' 'Chillies and peppers, green'\n",
      " 'Cucumbers and gherkins' 'Dates' 'Eggplants (aubergines)' 'Garlic' 'Hops'\n",
      " 'Leeks, other alliaceous vegetables' 'Lemons and limes'\n",
      " 'Lettuce and chicory' 'Mushrooms and truffles' 'Oats' 'Okra'\n",
      " 'Onions, dry' 'Onions, shallots, green' 'Peas, green'\n",
      " 'Pumpkins, squash and gourds' 'Quinces' 'Rye' 'Sorghum' 'Spices, nes'\n",
      " 'Spinach' 'Tangerines, mandarins, clementines, satsumas'\n",
      " 'Tobacco, unmanufactured' 'Tomatoes' 'Vegetables, leguminous nes'\n",
      " 'Vetches' 'Soybeans' 'Oil, palm' 'Artichokes' 'Bananas' 'Carobs'\n",
      " 'Chick peas' 'Chillies and peppers, dry' 'Grapefruit (inc. pomelos)'\n",
      " 'Lentils' 'Peas, dry' 'Triticale' 'Fruit, tropical fresh nes'\n",
      " 'Strawberries' 'Rapeseed' 'Groundnuts, with shell' 'Cassava'\n",
      " 'Cocoa, beans' 'Coconuts' 'Maize, green' 'Pineapples' 'Taro (cocoyam)'\n",
      " 'Yams' 'Bastfibres, other' 'Cashew nuts, with shell' 'Castor oil seed'\n",
      " 'Coffee, green' 'Oil, palm fruit' 'Palm kernels' 'Sisal' 'Sweet potatoes'\n",
      " 'Jute & Jute-like Fibres' 'Flax fibre and tow' 'Asparagus' 'Avocados'\n",
      " 'Canary seed' 'Cereals, nes' 'Fibre crops nes' 'Lupins'\n",
      " 'Mangoes, mangosteens, guavas' 'MatÃ©' 'Oilseeds nes' 'Papayas'\n",
      " 'Peppermint' 'String beans' 'Tea' 'Tung nuts' 'Safflower seed'\n",
      " 'Hazelnuts, with shell' 'Currants' 'Mustard seed' 'Raspberries'\n",
      " 'Kiwi fruit' 'Persimmons' 'Cow peas, dry' 'Blueberries' 'Buckwheat'\n",
      " 'Gooseberries' 'Grain, mixed' 'Hemp tow waste' 'Poppy seed' 'Cranberries'\n",
      " 'Pigeon peas' 'Plantains and others' 'Areca nuts' 'Coir' 'Ginger' 'Jute'\n",
      " 'Rubber, natural' 'Sugar crops, nes' 'Fruit, pome nes' 'Chicory roots'\n",
      " 'Vanilla' 'Roots and tubers, nes' 'Yautia (cocoyam)' 'Fonio'\n",
      " 'Karite nuts (sheanuts)' 'Kola nuts' 'Pepper (piper spp.)' 'Melonseed'\n",
      " 'Nutmeg, mace and cardamoms' 'Brazil nuts, with shell' 'Quinoa'\n",
      " 'Pyrethrum, dried' 'Cashewapple' 'Gums, natural' 'Ramie' 'Cassava leaves'\n",
      " 'Hempseed' 'Bambara beans' 'Cinnamon (canella)' 'Cloves'\n",
      " 'Tallowtree seed' 'Agave fibres nes' 'Manila fibre (abaca)' 'Kapok fibre'\n",
      " 'Kapok fruit' 'Kapokseed in shell' 'Jojoba seed']\n"
     ]
    }
   ],
   "source": [
    "print(df.Item.unique())"
   ]
  },
  {
   "cell_type": "code",
   "execution_count": 9,
   "metadata": {},
   "outputs": [
    {
     "name": "stdout",
     "output_type": "stream",
     "text": [
      "Enter the item: Apples\n"
     ]
    },
    {
     "data": {
      "text/html": [
       "<div>\n",
       "<style scoped>\n",
       "    .dataframe tbody tr th:only-of-type {\n",
       "        vertical-align: middle;\n",
       "    }\n",
       "\n",
       "    .dataframe tbody tr th {\n",
       "        vertical-align: top;\n",
       "    }\n",
       "\n",
       "    .dataframe thead th {\n",
       "        text-align: right;\n",
       "    }\n",
       "</style>\n",
       "<table border=\"1\" class=\"dataframe\">\n",
       "  <thead>\n",
       "    <tr style=\"text-align: right;\">\n",
       "      <th></th>\n",
       "      <th>Area Code</th>\n",
       "      <th>Region</th>\n",
       "      <th>Item</th>\n",
       "      <th>Year</th>\n",
       "      <th>Value(in $)</th>\n",
       "      <th>Temp difference</th>\n",
       "    </tr>\n",
       "  </thead>\n",
       "  <tbody>\n",
       "    <tr>\n",
       "      <th>0</th>\n",
       "      <td>351</td>\n",
       "      <td>China</td>\n",
       "      <td>Apples</td>\n",
       "      <td>1961</td>\n",
       "      <td>167000.0</td>\n",
       "      <td>0.290125</td>\n",
       "    </tr>\n",
       "    <tr>\n",
       "      <th>1</th>\n",
       "      <td>351</td>\n",
       "      <td>China</td>\n",
       "      <td>Apples</td>\n",
       "      <td>1962</td>\n",
       "      <td>225000.0</td>\n",
       "      <td>-0.073062</td>\n",
       "    </tr>\n",
       "    <tr>\n",
       "      <th>2</th>\n",
       "      <td>351</td>\n",
       "      <td>China</td>\n",
       "      <td>Apples</td>\n",
       "      <td>1963</td>\n",
       "      <td>248000.0</td>\n",
       "      <td>0.266062</td>\n",
       "    </tr>\n",
       "    <tr>\n",
       "      <th>3</th>\n",
       "      <td>351</td>\n",
       "      <td>China</td>\n",
       "      <td>Apples</td>\n",
       "      <td>1964</td>\n",
       "      <td>300000.0</td>\n",
       "      <td>-0.035313</td>\n",
       "    </tr>\n",
       "    <tr>\n",
       "      <th>4</th>\n",
       "      <td>351</td>\n",
       "      <td>China</td>\n",
       "      <td>Apples</td>\n",
       "      <td>1965</td>\n",
       "      <td>318000.0</td>\n",
       "      <td>0.026375</td>\n",
       "    </tr>\n",
       "    <tr>\n",
       "      <th>...</th>\n",
       "      <td>...</td>\n",
       "      <td>...</td>\n",
       "      <td>...</td>\n",
       "      <td>...</td>\n",
       "      <td>...</td>\n",
       "      <td>...</td>\n",
       "    </tr>\n",
       "    <tr>\n",
       "      <th>512</th>\n",
       "      <td>102</td>\n",
       "      <td>Iran (Islamic Republic of)</td>\n",
       "      <td>Apples</td>\n",
       "      <td>2010</td>\n",
       "      <td>1662430.0</td>\n",
       "      <td>2.255875</td>\n",
       "    </tr>\n",
       "    <tr>\n",
       "      <th>513</th>\n",
       "      <td>102</td>\n",
       "      <td>Iran (Islamic Republic of)</td>\n",
       "      <td>Apples</td>\n",
       "      <td>2011</td>\n",
       "      <td>1842972.0</td>\n",
       "      <td>0.934250</td>\n",
       "    </tr>\n",
       "    <tr>\n",
       "      <th>514</th>\n",
       "      <td>102</td>\n",
       "      <td>Iran (Islamic Republic of)</td>\n",
       "      <td>Apples</td>\n",
       "      <td>2012</td>\n",
       "      <td>1900000.0</td>\n",
       "      <td>1.385250</td>\n",
       "    </tr>\n",
       "    <tr>\n",
       "      <th>515</th>\n",
       "      <td>102</td>\n",
       "      <td>Iran (Islamic Republic of)</td>\n",
       "      <td>Apples</td>\n",
       "      <td>2013</td>\n",
       "      <td>1693370.0</td>\n",
       "      <td>1.867188</td>\n",
       "    </tr>\n",
       "    <tr>\n",
       "      <th>516</th>\n",
       "      <td>102</td>\n",
       "      <td>Iran (Islamic Republic of)</td>\n",
       "      <td>Apples</td>\n",
       "      <td>2014</td>\n",
       "      <td>1572844.0</td>\n",
       "      <td>1.212312</td>\n",
       "    </tr>\n",
       "  </tbody>\n",
       "</table>\n",
       "<p>517 rows × 6 columns</p>\n",
       "</div>"
      ],
      "text/plain": [
       "     Area Code                      Region    Item  Year  Value(in $)  \\\n",
       "0          351                       China  Apples  1961     167000.0   \n",
       "1          351                       China  Apples  1962     225000.0   \n",
       "2          351                       China  Apples  1963     248000.0   \n",
       "3          351                       China  Apples  1964     300000.0   \n",
       "4          351                       China  Apples  1965     318000.0   \n",
       "..         ...                         ...     ...   ...          ...   \n",
       "512        102  Iran (Islamic Republic of)  Apples  2010    1662430.0   \n",
       "513        102  Iran (Islamic Republic of)  Apples  2011    1842972.0   \n",
       "514        102  Iran (Islamic Republic of)  Apples  2012    1900000.0   \n",
       "515        102  Iran (Islamic Republic of)  Apples  2013    1693370.0   \n",
       "516        102  Iran (Islamic Republic of)  Apples  2014    1572844.0   \n",
       "\n",
       "     Temp difference  \n",
       "0           0.290125  \n",
       "1          -0.073062  \n",
       "2           0.266062  \n",
       "3          -0.035313  \n",
       "4           0.026375  \n",
       "..               ...  \n",
       "512         2.255875  \n",
       "513         0.934250  \n",
       "514         1.385250  \n",
       "515         1.867188  \n",
       "516         1.212312  \n",
       "\n",
       "[517 rows x 6 columns]"
      ]
     },
     "execution_count": 9,
     "metadata": {},
     "output_type": "execute_result"
    }
   ],
   "source": [
    "df_top.to_frame()\n",
    "x=input(\"Enter the item: \")\n",
    "def get_countries(x):\n",
    "    result = list(df_top.get(key = x).index)\n",
    "    return result\n",
    "countries=get_countries(x)\n",
    "#print(countries)\n",
    "def get_data(x,countries):\n",
    "    df_train = pd.DataFrame()\n",
    "    for country in countries:\n",
    "        df1 = df.loc[(df['Item'] == x) & (df['Region']==country)]\n",
    "        df_train=df_train.append(df1,ignore_index=True) \n",
    "    return df_train\n",
    "df_train = get_data(x,countries)\n",
    "df_train"
   ]
  },
  {
   "cell_type": "code",
   "execution_count": 10,
   "metadata": {},
   "outputs": [
    {
     "name": "stdout",
     "output_type": "stream",
     "text": [
      "     Area Code                      Region    Item  Year  Value(in $)  \\\n",
      "0          351                       China  Apples  1961     167000.0   \n",
      "1          351                       China  Apples  1962     225000.0   \n",
      "2          351                       China  Apples  1963     248000.0   \n",
      "3          351                       China  Apples  1964     300000.0   \n",
      "4          351                       China  Apples  1965     318000.0   \n",
      "..         ...                         ...     ...   ...          ...   \n",
      "512        102  Iran (Islamic Republic of)  Apples  2010    1662430.0   \n",
      "513        102  Iran (Islamic Republic of)  Apples  2011    1842972.0   \n",
      "514        102  Iran (Islamic Republic of)  Apples  2012    1900000.0   \n",
      "515        102  Iran (Islamic Republic of)  Apples  2013    1693370.0   \n",
      "516        102  Iran (Islamic Republic of)  Apples  2014    1572844.0   \n",
      "\n",
      "     Temp difference  \n",
      "0           0.290125  \n",
      "1          -0.073062  \n",
      "2           0.266062  \n",
      "3          -0.035313  \n",
      "4           0.026375  \n",
      "..               ...  \n",
      "512         2.255875  \n",
      "513         0.934250  \n",
      "514         1.385250  \n",
      "515         1.867188  \n",
      "516         1.212312  \n",
      "\n",
      "[517 rows x 6 columns]\n"
     ]
    }
   ],
   "source": [
    "print(df_train)\n",
    "df_train.drop(['Item','Region'], axis = 1, inplace = True)"
   ]
  },
  {
   "cell_type": "code",
   "execution_count": 11,
   "metadata": {},
   "outputs": [],
   "source": [
    "pred_indx = ['2015', '2016', '2017', '2018', '2019', '2020']\n",
    "preds = pd.DataFrame(index = pred_indx, columns = df_train.columns[1:10])\n",
    "pred_indx = pd.DataFrame(pred_indx)"
   ]
  },
  {
   "cell_type": "code",
   "execution_count": 12,
   "metadata": {},
   "outputs": [
    {
     "name": "stdout",
     "output_type": "stream",
     "text": [
      "     Area Code  Year  Value(in $)  Temp difference\n",
      "0          351  1961     167000.0         0.290125\n",
      "1          351  1962     225000.0        -0.073062\n",
      "2          351  1963     248000.0         0.266062\n",
      "3          351  1964     300000.0        -0.035313\n",
      "4          351  1965     318000.0         0.026375\n",
      "..         ...   ...          ...              ...\n",
      "512        102  2010    1662430.0         2.255875\n",
      "513        102  2011    1842972.0         0.934250\n",
      "514        102  2012    1900000.0         1.385250\n",
      "515        102  2013    1693370.0         1.867188\n",
      "516        102  2014    1572844.0         1.212312\n",
      "\n",
      "[517 rows x 4 columns]\n"
     ]
    }
   ],
   "source": [
    "print(df_train)\n",
    "X=df_train.drop(columns = ['Value(in $)'], axis = 1)\n",
    "y=df_train['Value(in $)']"
   ]
  },
  {
   "cell_type": "code",
   "execution_count": 13,
   "metadata": {},
   "outputs": [
    {
     "name": "stdout",
     "output_type": "stream",
     "text": [
      "0.20370937664670885\n"
     ]
    }
   ],
   "source": [
    "X_train, X_test, y_train, y_test = train_test_split(X, y, test_size=0.25, random_state=42)\n",
    "lm = LinearRegression()\n",
    "lm.fit(X_train, y_train)\n",
    "y_pred_t=lm.predict(X_train)\n",
    "print(r2_score(y_train, y_pred_t))"
   ]
  },
  {
   "cell_type": "code",
   "execution_count": 14,
   "metadata": {},
   "outputs": [
    {
     "name": "stdout",
     "output_type": "stream",
     "text": [
      "Training: [0.4582668684076624, 0.775994864986306, 0.8847741902808804, 0.9470575058593959, 0.9758308598995865, 0.9257394005591165, 0.9765852791907149, 0.9600394492716862, 0.9847471426712232, 0.9770466125276058, 0.9701944578209993, 0.9645253359067846, 0.9640750601612729]\n",
      "Test: [0.06464405948648244, 0.5043831848726782, 0.6602007485004954, 0.8517172317968262, 0.9107506156673714, 0.7296727972477124, 0.8926679177904604, 0.8965762958793352, 0.9207425096447013, 0.8927661085448377, 0.9339094908652729, 0.9215786036140554, 0.9210404707290565]\n"
     ]
    },
    {
     "data": {
      "text/plain": [
       "<matplotlib.legend.Legend at 0x27670b0b248>"
      ]
     },
     "execution_count": 14,
     "metadata": {},
     "output_type": "execute_result"
    },
    {
     "data": {
      "image/png": "[encoded data removed]",
      "text/plain": [
       "<Figure size 432x288 with 1 Axes>"
      ]
     },
     "metadata": {
      "needs_background": "light"
     },
     "output_type": "display_data"
    }
   ],
   "source": [
    "avg=[]\n",
    "avg_t=[]\n",
    "num=[]\n",
    "for i in range(2,15):\n",
    "    num.append(i)\n",
    "    r_net=0\n",
    "    r_net_t=0\n",
    "    lm = LinearRegression()\n",
    "    poly_reg=PolynomialFeatures(degree=i)\n",
    "    poly_X=poly_reg.fit_transform(X)\n",
    "    X_train, X_test, y_train, y_test = train_test_split(poly_X, y, test_size=0.3,random_state=42)\n",
    "    lm.fit(X_train, y_train)\n",
    "    y_pred_t=lm.predict(X_train)\n",
    "    r_net_t=r2_score(y_train, y_pred_t)\n",
    "    avg_t.append(r_net_t)\n",
    "    y_pred=lm.predict(X_test)\n",
    "    r_net=r2_score(y_test, y_pred)\n",
    "    avg.append(r_net)\n",
    "print('Training:',avg_t )    \n",
    "print('Test:',avg)\n",
    "plt.plot(num, avg_t, label='Training')\n",
    "plt.plot(num,avg,label='Test')\n",
    "plt.legend()"
   ]
  },
  {
   "cell_type": "code",
   "execution_count": 26,
   "metadata": {},
   "outputs": [
    {
     "name": "stdout",
     "output_type": "stream",
     "text": [
      "{'alpha': 20}\n",
      "-56333689179362.69\n"
     ]
    }
   ],
   "source": [
    "total=0\n",
    "ridge = Ridge()\n",
    "parameters = {'alpha': [1e-15,1e-10,1e-8,1e-4,1e-3,1e-2,1,5,10,20]}\n",
    "ridge_regressor = GridSearchCV(ridge,parameters,scoring='neg_mean_squared_error',cv=5)\n",
    "ridge_regressor.fit(X,y)\n",
    "print(ridge_regressor.best_params_)\n",
    "print(ridge_regressor.best_score_)"
   ]
  },
  {
   "cell_type": "code",
   "execution_count": 30,
   "metadata": {},
   "outputs": [
    {
     "name": "stderr",
     "output_type": "stream",
     "text": [
      "c:\\users\\bbcc\\appdata\\local\\programs\\python\\python37\\lib\\site-packages\\sklearn\\linear_model\\_ridge.py:190: UserWarning: Singular matrix in solving dual problem. Using least-squares solution instead.\n",
      "  warnings.warn(\"Singular matrix in solving dual problem. Using \"\n"
     ]
    },
    {
     "name": "stdout",
     "output_type": "stream",
     "text": [
      "Train:  0.836433198449592\n",
      "Test:  0.5811142936058282\n"
     ]
    }
   ],
   "source": [
    "ridge = Ridge(alpha=20)\n",
    "ridge.fit(X_train, y_train)\n",
    "y_pred_t=ridge.predict(X_train)\n",
    "r_net_t=r2_score(y_train, y_pred_t)\n",
    "print('Train: ',r_net_t)\n",
    "y_pred=ridge.predict(X_test)\n",
    "r_net=r2_score(y_test, y_pred)\n",
    "print('Test: ',r_net)"
   ]
  },
  {
   "cell_type": "code",
   "execution_count": 33,
   "metadata": {},
   "outputs": [
    {
     "name": "stdout",
     "output_type": "stream",
     "text": [
      "Train:  0.9298792717800642\n",
      "Test:  0.3004261243787484\n"
     ]
    },
    {
     "name": "stderr",
     "output_type": "stream",
     "text": [
      "c:\\users\\bbcc\\appdata\\local\\programs\\python\\python37\\lib\\site-packages\\sklearn\\linear_model\\_coordinate_descent.py:476: ConvergenceWarning: Objective did not converge. You might want to increase the number of iterations. Duality gap: 709866132008719.9, tolerance: 2021494025107.093\n",
      "  positive)\n"
     ]
    }
   ],
   "source": [
    "lasso = Lasso(alpha = 20, max_iter = 1000000)\n",
    "lasso.fit(X_train, y_train)\n",
    "y_pred_t=lasso.predict(X_train)\n",
    "r_net_t=r2_score(y_train, y_pred_t)\n",
    "print('Train: ',r_net_t)\n",
    "y_pred=lasso.predict(X_test)\n",
    "r_net=r2_score(y_test, y_pred)\n",
    "print('Test: ',r_net)"
   ]
  },
  {
   "cell_type": "code",
   "execution_count": 24,
   "metadata": {},
   "outputs": [
    {
     "data": {
      "text/plain": [
       "2"
      ]
     },
     "execution_count": 24,
     "metadata": {},
     "output_type": "execute_result"
    }
   ],
   "source": [
    "def get_country_code(x):\n",
    "    df_country_code\n",
    "    #country = df_country_code(['Region']==x)\n",
    "    country = df_country_code[(df_country_code['Region'] == x)] \n",
    "    return country.iloc[0,0]\n",
    "get_country_code('Afghanistan')\n",
    "\n"
   ]
  }
 ],
 "metadata": {
  "kernelspec": {
   "display_name": "Python 3",
   "language": "python",
   "name": "python3"
  },
  "language_info": {
   "codemirror_mode": {
    "name": "ipython",
    "version": 3
   },
   "file_extension": ".py",
   "mimetype": "text/x-python",
   "name": "python",
   "nbconvert_exporter": "python",
   "pygments_lexer": "ipython3",
   "version": "3.7.7"
  }
 },
 "nbformat": 4,
 "nbformat_minor": 4
}
