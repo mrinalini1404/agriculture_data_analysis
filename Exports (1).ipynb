{
 "cells": [
  {
   "cell_type": "code",
   "execution_count": 1,
   "metadata": {
    "colab": {},
    "colab_type": "code",
    "id": "4ADrXTNWjIFS"
   },
   "outputs": [],
   "source": [
    "import numpy as np\n",
    "import pandas as pd\n",
    "from sklearn.linear_model import LinearRegression,Ridge,Lasso\n",
    "from sklearn.preprocessing import PolynomialFeatures\n",
    "from matplotlib import pyplot as plt\n",
    "from sklearn.neighbors import KNeighborsClassifier\n",
    "from sklearn.model_selection import cross_val_score,GridSearchCV\n",
    "from sklearn.model_selection import train_test_split\n",
    "from sklearn.metrics import r2_score,f1_score"
   ]
  },
  {
   "cell_type": "code",
   "execution_count": null,
   "metadata": {
    "colab": {
     "base_uri": "https://localhost:8080/",
     "height": 235
    },
    "colab_type": "code",
    "id": "Q_WRkHOpjIGJ",
    "outputId": "8c9a8193-d398-456c-86ff-0390224b61f5"
   },
   "outputs": [],
   "source": [
    "df = pd.read_csv('current_FAO/raw_files/Trade_Crops_Livestock_E_All_Data_(Normalized).csv',engine='python', encoding = 'ISO-8859-1', error_bad_lines=False)\n",
    "print(df.shape)\n",
    "df.head()"
   ]
  },
  {
   "cell_type": "code",
   "execution_count": null,
   "metadata": {
    "colab": {
     "base_uri": "https://localhost:8080/",
     "height": 345
    },
    "colab_type": "code",
    "id": "eXctzWvwpKla",
    "outputId": "28368ca7-48f0-4997-a66b-fef0ab5fe52e"
   },
   "outputs": [],
   "source": [
    "df.fillna(0,inplace=True)\n",
    "df.info()"
   ]
  },
  {
   "cell_type": "code",
   "execution_count": null,
   "metadata": {
    "colab": {
     "base_uri": "https://localhost:8080/",
     "height": 407
    },
    "colab_type": "code",
    "id": "WUi3hgTEjIGl",
    "outputId": "2eaee55e-0aed-48e8-f61d-aea81fe3aa50"
   },
   "outputs": [],
   "source": [
    "df.drop(columns = ['Area Code', 'Item Code', 'Element Code', 'Year Code', 'Flag','Unit'], axis = 1, inplace = True)\n",
    "df\n",
    "df=df.loc[df['Element']=='Export Quantity']\n",
    "df.rename(columns = {'Value':'Export Quantity(tonnes)'}, inplace = True)\n",
    "df.drop(columns = ['Element'], axis = 1, inplace = True)\n",
    "df"
   ]
  },
  {
   "cell_type": "code",
   "execution_count": null,
   "metadata": {
    "colab": {
     "base_uri": "https://localhost:8080/",
     "height": 181
    },
    "colab_type": "code",
    "id": "XbBBMzfKTWKw",
    "outputId": "c2d7325d-8446-47e1-8a0b-dabd41afc3f4"
   },
   "outputs": [],
   "source": [
    "print(df['Area'].unique())\n",
    "print(df.shape)"
   ]
  },
  {
   "cell_type": "code",
   "execution_count": null,
   "metadata": {
    "colab": {
     "base_uri": "https://localhost:8080/",
     "height": 35
    },
    "colab_type": "code",
    "id": "kklnLP_vTWLD",
    "outputId": "23bbf7ed-98c9-42d8-faaf-b5e86b887f56"
   },
   "outputs": [],
   "source": [
    "drop_countries = ['USSR','European Union (exc intra-trade)', 'World', 'Saint Kitts and Nevis',\n",
    "                  'Saint Lucia', 'Saint Pierre and Miquelon', 'Netherlands Antilles (former)',\n",
    "                  'Saint Vincent and the Grenadines', 'Sudan (former)', \n",
    "                  'The former Yugoslav Republic of Macedonia', 'Serbia and Montenegro',\n",
    "                  'Sao Tome and Principe', 'Seychelles', 'Central Asia',\n",
    "                  'Belgium-Luxembourg', 'Netherlands Antilles (former)', 'EU(12)ex.int', 'EU(15)ex.int',\n",
    "                  'EU(25)ex.int', 'EU(27)ex.int', 'European Union (exc intra-trade)', 'World',\n",
    "                  'Africa', 'Eastern Africa', 'Middle Africa', 'Northern Africa',\n",
    "                  'Southern Africa', 'Western Africa', 'Americas', 'Northern America',\n",
    "                  'Central America', 'Caribbean', 'South America', 'Asia', 'Central Asira',\n",
    "                  'Eastern Asia', 'Southern Asia', 'South-Eastern Asia', 'Western Asia',\n",
    "                  'Europe', 'Eastern Europe', 'Northern Europe', 'Southern Europe',\n",
    "                  'Western Europe', 'Oceania', 'Australia & New Zealand', 'Melanesia',\n",
    "                  'Micronesia', 'Polynesia', 'European Union', 'Least Developed Countries',\n",
    "                  'Land Locked Developing Countries', 'Small Island Developing States'\n",
    "                  'Low Income Food Deficit Countries','Net Food Importing Developing Countries']\n",
    "for x in drop_countries:\n",
    "    df = df[df.Area != x]\n",
    "print(df.shape)"
   ]
  },
  {
   "cell_type": "code",
   "execution_count": null,
   "metadata": {
    "colab": {
     "base_uri": "https://localhost:8080/",
     "height": 72
    },
    "colab_type": "code",
    "id": "Z6llcfR5TWLO",
    "outputId": "cad35811-134f-4247-b267-89d66a879f5d"
   },
   "outputs": [],
   "source": [
    "print(df[df.isnull().any(axis=1)])"
   ]
  },
  {
   "cell_type": "code",
   "execution_count": null,
   "metadata": {
    "colab": {
     "base_uri": "https://localhost:8080/",
     "height": 254
    },
    "colab_type": "code",
    "id": "AG1SeHtmjIG3",
    "outputId": "d77d6019-2661-4076-b764-e35334c18881",
    "scrolled": true
   },
   "outputs": [],
   "source": [
    "df_grouped_summed = df.groupby(['Item','Area']).sum()\n",
    "df_grouped_summed.drop(columns=['Year'],inplace=True,axis=1)\n",
    "g = df_grouped_summed['Export Quantity(tonnes)'].groupby(level=0, group_keys=False)\n",
    "df_top = g.nlargest(10)\n",
    "print(df_top)\n"
   ]
  },
  {
   "cell_type": "code",
   "execution_count": null,
   "metadata": {
    "colab": {
     "base_uri": "https://localhost:8080/",
     "height": 1000
    },
    "colab_type": "code",
    "id": "eAkgUTwLpNF6",
    "outputId": "c299fa4e-c35d-4f5f-aa0e-c1e6d74b636d"
   },
   "outputs": [],
   "source": [
    "print(df_top.to_string())"
   ]
  }
 ],
 "metadata": {
  "colab": {
   "collapsed_sections": [],
   "name": "Exports.ipynb",
   "provenance": []
  },
  "kernelspec": {
   "display_name": "Python 3",
   "language": "python",
   "name": "python3"
  },
  "language_info": {
   "codemirror_mode": {
    "name": "ipython",
    "version": 3
   },
   "file_extension": ".py",
   "mimetype": "text/x-python",
   "name": "python",
   "nbconvert_exporter": "python",
   "pygments_lexer": "ipython3",
   "version": "3.7.7"
  }
 },
 "nbformat": 4,
 "nbformat_minor": 1
}
